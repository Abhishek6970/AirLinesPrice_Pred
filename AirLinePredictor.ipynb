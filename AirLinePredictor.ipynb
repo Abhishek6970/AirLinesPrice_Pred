{
 "cells": [
  {
   "cell_type": "code",
   "execution_count": 335,
   "id": "c769a274-28d4-45d4-b6b8-fc5f1d8d7f9d",
   "metadata": {},
   "outputs": [],
   "source": [
    "import pandas as pd\n",
    "import numpy as np\n",
    "import matplotlib.pyplot as plt\n",
    "import seaborn as sns"
   ]
  },
  {
   "cell_type": "markdown",
   "id": "faab184a-035a-48d1-b2a0-74f3c2185a34",
   "metadata": {},
   "source": [
    "## Understanding the Basics about data"
   ]
  },
  {
   "cell_type": "code",
   "execution_count": 394,
   "id": "1fe1ba84-fabe-4b68-85bb-c28da9589bba",
   "metadata": {},
   "outputs": [],
   "source": [
    "df = pd.read_excel('Data_Train.xlsx')"
   ]
  },
  {
   "cell_type": "code",
   "execution_count": 395,
   "id": "4eaf31ca-6b42-4054-89dd-97a71b86af9d",
   "metadata": {},
   "outputs": [
    {
     "data": {
      "text/html": [
       "<div>\n",
       "<style scoped>\n",
       "    .dataframe tbody tr th:only-of-type {\n",
       "        vertical-align: middle;\n",
       "    }\n",
       "\n",
       "    .dataframe tbody tr th {\n",
       "        vertical-align: top;\n",
       "    }\n",
       "\n",
       "    .dataframe thead th {\n",
       "        text-align: right;\n",
       "    }\n",
       "</style>\n",
       "<table border=\"1\" class=\"dataframe\">\n",
       "  <thead>\n",
       "    <tr style=\"text-align: right;\">\n",
       "      <th></th>\n",
       "      <th>Airline</th>\n",
       "      <th>Date_of_Journey</th>\n",
       "      <th>Source</th>\n",
       "      <th>Destination</th>\n",
       "      <th>Route</th>\n",
       "      <th>Dep_Time</th>\n",
       "      <th>Arrival_Time</th>\n",
       "      <th>Duration</th>\n",
       "      <th>Total_Stops</th>\n",
       "      <th>Additional_Info</th>\n",
       "      <th>Price</th>\n",
       "    </tr>\n",
       "  </thead>\n",
       "  <tbody>\n",
       "    <tr>\n",
       "      <th>0</th>\n",
       "      <td>IndiGo</td>\n",
       "      <td>24/03/2019</td>\n",
       "      <td>Banglore</td>\n",
       "      <td>New Delhi</td>\n",
       "      <td>BLR → DEL</td>\n",
       "      <td>22:20</td>\n",
       "      <td>01:10 22 Mar</td>\n",
       "      <td>2h 50m</td>\n",
       "      <td>non-stop</td>\n",
       "      <td>No info</td>\n",
       "      <td>3897</td>\n",
       "    </tr>\n",
       "    <tr>\n",
       "      <th>1</th>\n",
       "      <td>Air India</td>\n",
       "      <td>1/05/2019</td>\n",
       "      <td>Kolkata</td>\n",
       "      <td>Banglore</td>\n",
       "      <td>CCU → IXR → BBI → BLR</td>\n",
       "      <td>05:50</td>\n",
       "      <td>13:15</td>\n",
       "      <td>7h 25m</td>\n",
       "      <td>2 stops</td>\n",
       "      <td>No info</td>\n",
       "      <td>7662</td>\n",
       "    </tr>\n",
       "  </tbody>\n",
       "</table>\n",
       "</div>"
      ],
      "text/plain": [
       "     Airline Date_of_Journey    Source Destination                  Route  \\\n",
       "0     IndiGo      24/03/2019  Banglore   New Delhi              BLR → DEL   \n",
       "1  Air India       1/05/2019   Kolkata    Banglore  CCU → IXR → BBI → BLR   \n",
       "\n",
       "  Dep_Time  Arrival_Time Duration Total_Stops Additional_Info  Price  \n",
       "0    22:20  01:10 22 Mar   2h 50m    non-stop         No info   3897  \n",
       "1    05:50         13:15   7h 25m     2 stops         No info   7662  "
      ]
     },
     "execution_count": 395,
     "metadata": {},
     "output_type": "execute_result"
    }
   ],
   "source": [
    "df.head(2)"
   ]
  },
  {
   "cell_type": "code",
   "execution_count": 396,
   "id": "2e9fba11-fc5e-4ef3-b87e-281c7ff18c1a",
   "metadata": {},
   "outputs": [
    {
     "name": "stdout",
     "output_type": "stream",
     "text": [
      "<class 'pandas.core.frame.DataFrame'>\n",
      "RangeIndex: 10683 entries, 0 to 10682\n",
      "Data columns (total 11 columns):\n",
      " #   Column           Non-Null Count  Dtype \n",
      "---  ------           --------------  ----- \n",
      " 0   Airline          10683 non-null  object\n",
      " 1   Date_of_Journey  10683 non-null  object\n",
      " 2   Source           10683 non-null  object\n",
      " 3   Destination      10683 non-null  object\n",
      " 4   Route            10682 non-null  object\n",
      " 5   Dep_Time         10683 non-null  object\n",
      " 6   Arrival_Time     10683 non-null  object\n",
      " 7   Duration         10683 non-null  object\n",
      " 8   Total_Stops      10682 non-null  object\n",
      " 9   Additional_Info  10683 non-null  object\n",
      " 10  Price            10683 non-null  int64 \n",
      "dtypes: int64(1), object(10)\n",
      "memory usage: 918.2+ KB\n"
     ]
    }
   ],
   "source": [
    "df.info()"
   ]
  },
  {
   "cell_type": "code",
   "execution_count": 397,
   "id": "cde61b11-226e-4461-99de-4ea50f5abbf8",
   "metadata": {},
   "outputs": [
    {
     "data": {
      "text/plain": [
       "Airline            0\n",
       "Date_of_Journey    0\n",
       "Source             0\n",
       "Destination        0\n",
       "Route              1\n",
       "Dep_Time           0\n",
       "Arrival_Time       0\n",
       "Duration           0\n",
       "Total_Stops        1\n",
       "Additional_Info    0\n",
       "Price              0\n",
       "dtype: int64"
      ]
     },
     "execution_count": 397,
     "metadata": {},
     "output_type": "execute_result"
    }
   ],
   "source": [
    "df.isnull().sum()"
   ]
  },
  {
   "cell_type": "code",
   "execution_count": 398,
   "id": "ef540895-d127-49f7-aee4-d1ba70cb6208",
   "metadata": {},
   "outputs": [
    {
     "data": {
      "text/html": [
       "<div>\n",
       "<style scoped>\n",
       "    .dataframe tbody tr th:only-of-type {\n",
       "        vertical-align: middle;\n",
       "    }\n",
       "\n",
       "    .dataframe tbody tr th {\n",
       "        vertical-align: top;\n",
       "    }\n",
       "\n",
       "    .dataframe thead th {\n",
       "        text-align: right;\n",
       "    }\n",
       "</style>\n",
       "<table border=\"1\" class=\"dataframe\">\n",
       "  <thead>\n",
       "    <tr style=\"text-align: right;\">\n",
       "      <th></th>\n",
       "      <th>Airline</th>\n",
       "      <th>Date_of_Journey</th>\n",
       "      <th>Source</th>\n",
       "      <th>Destination</th>\n",
       "      <th>Route</th>\n",
       "      <th>Dep_Time</th>\n",
       "      <th>Arrival_Time</th>\n",
       "      <th>Duration</th>\n",
       "      <th>Total_Stops</th>\n",
       "      <th>Additional_Info</th>\n",
       "      <th>Price</th>\n",
       "    </tr>\n",
       "  </thead>\n",
       "  <tbody>\n",
       "    <tr>\n",
       "      <th>9039</th>\n",
       "      <td>Air India</td>\n",
       "      <td>6/05/2019</td>\n",
       "      <td>Delhi</td>\n",
       "      <td>Cochin</td>\n",
       "      <td>NaN</td>\n",
       "      <td>09:45</td>\n",
       "      <td>09:25 07 May</td>\n",
       "      <td>23h 40m</td>\n",
       "      <td>NaN</td>\n",
       "      <td>No info</td>\n",
       "      <td>7480</td>\n",
       "    </tr>\n",
       "  </tbody>\n",
       "</table>\n",
       "</div>"
      ],
      "text/plain": [
       "        Airline Date_of_Journey Source Destination Route Dep_Time  \\\n",
       "9039  Air India       6/05/2019  Delhi      Cochin   NaN    09:45   \n",
       "\n",
       "      Arrival_Time Duration Total_Stops Additional_Info  Price  \n",
       "9039  09:25 07 May  23h 40m         NaN         No info   7480  "
      ]
     },
     "execution_count": 398,
     "metadata": {},
     "output_type": "execute_result"
    }
   ],
   "source": [
    "df[df.Route.isnull()]"
   ]
  },
  {
   "cell_type": "code",
   "execution_count": 399,
   "id": "4e330fb3-7762-425a-964c-260a15b3c5a2",
   "metadata": {},
   "outputs": [],
   "source": [
    "df.dropna(inplace = True)"
   ]
  },
  {
   "cell_type": "code",
   "execution_count": 400,
   "id": "532b01cf-4866-4230-8107-b1e75780a7e1",
   "metadata": {},
   "outputs": [
    {
     "data": {
      "text/plain": [
       "(10682, 11)"
      ]
     },
     "execution_count": 400,
     "metadata": {},
     "output_type": "execute_result"
    }
   ],
   "source": [
    "df.shape"
   ]
  },
  {
   "cell_type": "code",
   "execution_count": 401,
   "id": "670ad148-dadf-4c67-986b-97fdff3d4004",
   "metadata": {},
   "outputs": [
    {
     "data": {
      "text/plain": [
       "array(['No info', 'In-flight meal not included',\n",
       "       'No check-in baggage included', '1 Short layover', 'No Info',\n",
       "       '1 Long layover', 'Change airports', 'Business class',\n",
       "       'Red-eye flight', '2 Long layover'], dtype=object)"
      ]
     },
     "execution_count": 401,
     "metadata": {},
     "output_type": "execute_result"
    }
   ],
   "source": [
    "df.Additional_Info.unique()"
   ]
  },
  {
   "cell_type": "code",
   "execution_count": 402,
   "id": "606fb8e3-cffa-4972-91ca-fe3f5afd9cf0",
   "metadata": {},
   "outputs": [
    {
     "data": {
      "text/plain": [
       "No info                         8344\n",
       "In-flight meal not included     1982\n",
       "No check-in baggage included     320\n",
       "1 Long layover                    19\n",
       "Change airports                    7\n",
       "Business class                     4\n",
       "No Info                            3\n",
       "1 Short layover                    1\n",
       "Red-eye flight                     1\n",
       "2 Long layover                     1\n",
       "Name: Additional_Info, dtype: int64"
      ]
     },
     "execution_count": 402,
     "metadata": {},
     "output_type": "execute_result"
    }
   ],
   "source": [
    "df.Additional_Info.value_counts()"
   ]
  },
  {
   "cell_type": "code",
   "execution_count": 403,
   "id": "5bdb8449-fe58-448e-8fd8-bb15b7adf73a",
   "metadata": {},
   "outputs": [
    {
     "data": {
      "text/plain": [
       "Index(['Airline', 'Date_of_Journey', 'Source', 'Destination', 'Route',\n",
       "       'Dep_Time', 'Arrival_Time', 'Duration', 'Total_Stops',\n",
       "       'Additional_Info', 'Price'],\n",
       "      dtype='object')"
      ]
     },
     "execution_count": 403,
     "metadata": {},
     "output_type": "execute_result"
    }
   ],
   "source": [
    "df.columns"
   ]
  },
  {
   "cell_type": "markdown",
   "id": "35af3547-fa0e-4325-893b-2337ef911df2",
   "metadata": {},
   "source": [
    "##### Better way to convert multiple columns to datetime \\n \n",
    "\n",
    "###### data.iloc[:, 7:12] = data.iloc[:, 7:12].apply(pd.to_datetime, errors='coerce')"
   ]
  },
  {
   "cell_type": "code",
   "execution_count": 404,
   "id": "1247d716-2aa2-408a-b545-c9da942feb68",
   "metadata": {},
   "outputs": [],
   "source": [
    "# Change Data to Datetime format\n",
    "def change_to_datetime(col):\n",
    "    return pd.to_datetime(col)\n",
    "\n",
    "coln = ['Date_of_Journey','Dep_Time','Arrival_Time']"
   ]
  },
  {
   "cell_type": "code",
   "execution_count": 405,
   "id": "3e417bb4-c8d5-462a-8f71-46adb7167d72",
   "metadata": {},
   "outputs": [
    {
     "name": "stderr",
     "output_type": "stream",
     "text": [
      "/Users/sneha_abhi/opt/anaconda3/lib/python3.9/site-packages/pandas/core/tools/datetimes.py:1047: UserWarning: Parsing '24/03/2019' in DD/MM/YYYY format. Provide format or specify infer_datetime_format=True for consistent parsing.\n",
      "  cache_array = _maybe_cache(arg, format, cache, convert_listlike)\n",
      "/Users/sneha_abhi/opt/anaconda3/lib/python3.9/site-packages/pandas/core/tools/datetimes.py:1047: UserWarning: Parsing '24/06/2019' in DD/MM/YYYY format. Provide format or specify infer_datetime_format=True for consistent parsing.\n",
      "  cache_array = _maybe_cache(arg, format, cache, convert_listlike)\n",
      "/Users/sneha_abhi/opt/anaconda3/lib/python3.9/site-packages/pandas/core/tools/datetimes.py:1047: UserWarning: Parsing '27/05/2019' in DD/MM/YYYY format. Provide format or specify infer_datetime_format=True for consistent parsing.\n",
      "  cache_array = _maybe_cache(arg, format, cache, convert_listlike)\n",
      "/Users/sneha_abhi/opt/anaconda3/lib/python3.9/site-packages/pandas/core/tools/datetimes.py:1047: UserWarning: Parsing '18/04/2019' in DD/MM/YYYY format. Provide format or specify infer_datetime_format=True for consistent parsing.\n",
      "  cache_array = _maybe_cache(arg, format, cache, convert_listlike)\n",
      "/Users/sneha_abhi/opt/anaconda3/lib/python3.9/site-packages/pandas/core/tools/datetimes.py:1047: UserWarning: Parsing '24/04/2019' in DD/MM/YYYY format. Provide format or specify infer_datetime_format=True for consistent parsing.\n",
      "  cache_array = _maybe_cache(arg, format, cache, convert_listlike)\n",
      "/Users/sneha_abhi/opt/anaconda3/lib/python3.9/site-packages/pandas/core/tools/datetimes.py:1047: UserWarning: Parsing '15/04/2019' in DD/MM/YYYY format. Provide format or specify infer_datetime_format=True for consistent parsing.\n",
      "  cache_array = _maybe_cache(arg, format, cache, convert_listlike)\n",
      "/Users/sneha_abhi/opt/anaconda3/lib/python3.9/site-packages/pandas/core/tools/datetimes.py:1047: UserWarning: Parsing '21/03/2019' in DD/MM/YYYY format. Provide format or specify infer_datetime_format=True for consistent parsing.\n",
      "  cache_array = _maybe_cache(arg, format, cache, convert_listlike)\n",
      "/Users/sneha_abhi/opt/anaconda3/lib/python3.9/site-packages/pandas/core/tools/datetimes.py:1047: UserWarning: Parsing '15/05/2019' in DD/MM/YYYY format. Provide format or specify infer_datetime_format=True for consistent parsing.\n",
      "  cache_array = _maybe_cache(arg, format, cache, convert_listlike)\n",
      "/Users/sneha_abhi/opt/anaconda3/lib/python3.9/site-packages/pandas/core/tools/datetimes.py:1047: UserWarning: Parsing '18/06/2019' in DD/MM/YYYY format. Provide format or specify infer_datetime_format=True for consistent parsing.\n",
      "  cache_array = _maybe_cache(arg, format, cache, convert_listlike)\n",
      "/Users/sneha_abhi/opt/anaconda3/lib/python3.9/site-packages/pandas/core/tools/datetimes.py:1047: UserWarning: Parsing '15/06/2019' in DD/MM/YYYY format. Provide format or specify infer_datetime_format=True for consistent parsing.\n",
      "  cache_array = _maybe_cache(arg, format, cache, convert_listlike)\n",
      "/Users/sneha_abhi/opt/anaconda3/lib/python3.9/site-packages/pandas/core/tools/datetimes.py:1047: UserWarning: Parsing '18/05/2019' in DD/MM/YYYY format. Provide format or specify infer_datetime_format=True for consistent parsing.\n",
      "  cache_array = _maybe_cache(arg, format, cache, convert_listlike)\n",
      "/Users/sneha_abhi/opt/anaconda3/lib/python3.9/site-packages/pandas/core/tools/datetimes.py:1047: UserWarning: Parsing '27/06/2019' in DD/MM/YYYY format. Provide format or specify infer_datetime_format=True for consistent parsing.\n",
      "  cache_array = _maybe_cache(arg, format, cache, convert_listlike)\n",
      "/Users/sneha_abhi/opt/anaconda3/lib/python3.9/site-packages/pandas/core/tools/datetimes.py:1047: UserWarning: Parsing '21/05/2019' in DD/MM/YYYY format. Provide format or specify infer_datetime_format=True for consistent parsing.\n",
      "  cache_array = _maybe_cache(arg, format, cache, convert_listlike)\n",
      "/Users/sneha_abhi/opt/anaconda3/lib/python3.9/site-packages/pandas/core/tools/datetimes.py:1047: UserWarning: Parsing '15/03/2019' in DD/MM/YYYY format. Provide format or specify infer_datetime_format=True for consistent parsing.\n",
      "  cache_array = _maybe_cache(arg, format, cache, convert_listlike)\n",
      "/Users/sneha_abhi/opt/anaconda3/lib/python3.9/site-packages/pandas/core/tools/datetimes.py:1047: UserWarning: Parsing '24/05/2019' in DD/MM/YYYY format. Provide format or specify infer_datetime_format=True for consistent parsing.\n",
      "  cache_array = _maybe_cache(arg, format, cache, convert_listlike)\n",
      "/Users/sneha_abhi/opt/anaconda3/lib/python3.9/site-packages/pandas/core/tools/datetimes.py:1047: UserWarning: Parsing '21/04/2019' in DD/MM/YYYY format. Provide format or specify infer_datetime_format=True for consistent parsing.\n",
      "  cache_array = _maybe_cache(arg, format, cache, convert_listlike)\n",
      "/Users/sneha_abhi/opt/anaconda3/lib/python3.9/site-packages/pandas/core/tools/datetimes.py:1047: UserWarning: Parsing '21/06/2019' in DD/MM/YYYY format. Provide format or specify infer_datetime_format=True for consistent parsing.\n",
      "  cache_array = _maybe_cache(arg, format, cache, convert_listlike)\n",
      "/Users/sneha_abhi/opt/anaconda3/lib/python3.9/site-packages/pandas/core/tools/datetimes.py:1047: UserWarning: Parsing '27/03/2019' in DD/MM/YYYY format. Provide format or specify infer_datetime_format=True for consistent parsing.\n",
      "  cache_array = _maybe_cache(arg, format, cache, convert_listlike)\n",
      "/Users/sneha_abhi/opt/anaconda3/lib/python3.9/site-packages/pandas/core/tools/datetimes.py:1047: UserWarning: Parsing '18/03/2019' in DD/MM/YYYY format. Provide format or specify infer_datetime_format=True for consistent parsing.\n",
      "  cache_array = _maybe_cache(arg, format, cache, convert_listlike)\n",
      "/Users/sneha_abhi/opt/anaconda3/lib/python3.9/site-packages/pandas/core/tools/datetimes.py:1047: UserWarning: Parsing '27/04/2019' in DD/MM/YYYY format. Provide format or specify infer_datetime_format=True for consistent parsing.\n",
      "  cache_array = _maybe_cache(arg, format, cache, convert_listlike)\n"
     ]
    }
   ],
   "source": [
    "df[coln] = df[coln].apply(lambda x: change_to_datetime(x))"
   ]
  },
  {
   "cell_type": "code",
   "execution_count": 406,
   "id": "eabf5884-79c6-429f-a3fd-b9d5dbe0fd22",
   "metadata": {},
   "outputs": [
    {
     "name": "stdout",
     "output_type": "stream",
     "text": [
      "<class 'pandas.core.frame.DataFrame'>\n",
      "Int64Index: 10682 entries, 0 to 10682\n",
      "Data columns (total 11 columns):\n",
      " #   Column           Non-Null Count  Dtype         \n",
      "---  ------           --------------  -----         \n",
      " 0   Airline          10682 non-null  object        \n",
      " 1   Date_of_Journey  10682 non-null  datetime64[ns]\n",
      " 2   Source           10682 non-null  object        \n",
      " 3   Destination      10682 non-null  object        \n",
      " 4   Route            10682 non-null  object        \n",
      " 5   Dep_Time         10682 non-null  datetime64[ns]\n",
      " 6   Arrival_Time     10682 non-null  datetime64[ns]\n",
      " 7   Duration         10682 non-null  object        \n",
      " 8   Total_Stops      10682 non-null  object        \n",
      " 9   Additional_Info  10682 non-null  object        \n",
      " 10  Price            10682 non-null  int64         \n",
      "dtypes: datetime64[ns](3), int64(1), object(7)\n",
      "memory usage: 1001.4+ KB\n"
     ]
    }
   ],
   "source": [
    "df.info()"
   ]
  },
  {
   "cell_type": "code",
   "execution_count": 407,
   "id": "5252270f-b092-49b1-b88b-0f101b095cb1",
   "metadata": {},
   "outputs": [],
   "source": [
    "# Splitting Date of Journery to Muliple Columns for ML\n",
    "df['journey_year'] = df.Date_of_Journey.dt.year\n",
    "df['journey_month'] = df.Date_of_Journey.dt.month\n",
    "df['journey_day'] = df.Date_of_Journey.dt.day"
   ]
  },
  {
   "cell_type": "code",
   "execution_count": 408,
   "id": "562bbac4-531d-4957-964b-8943f731eca5",
   "metadata": {},
   "outputs": [],
   "source": [
    "df.drop(columns = 'Date_of_Journey',inplace=True)"
   ]
  },
  {
   "cell_type": "code",
   "execution_count": 409,
   "id": "f46e8af6-80ac-46e6-95d4-5d52efd11ce0",
   "metadata": {},
   "outputs": [],
   "source": [
    "coln2 = ['Dep_Time','Arrival_Time']\n",
    "for col in coln2:  \n",
    "    df[col+'_hour'] = df[col].dt.hour\n",
    "    df[col+'_minute'] = df[col].dt.minute\n",
    "    df.drop(columns = col, inplace = True)\n"
   ]
  },
  {
   "cell_type": "code",
   "execution_count": 410,
   "id": "a43eb290-679b-47a5-8f5b-16892511c5d4",
   "metadata": {},
   "outputs": [
    {
     "data": {
      "text/html": [
       "<div>\n",
       "<style scoped>\n",
       "    .dataframe tbody tr th:only-of-type {\n",
       "        vertical-align: middle;\n",
       "    }\n",
       "\n",
       "    .dataframe tbody tr th {\n",
       "        vertical-align: top;\n",
       "    }\n",
       "\n",
       "    .dataframe thead th {\n",
       "        text-align: right;\n",
       "    }\n",
       "</style>\n",
       "<table border=\"1\" class=\"dataframe\">\n",
       "  <thead>\n",
       "    <tr style=\"text-align: right;\">\n",
       "      <th></th>\n",
       "      <th>Airline</th>\n",
       "      <th>Source</th>\n",
       "      <th>Destination</th>\n",
       "      <th>Route</th>\n",
       "      <th>Duration</th>\n",
       "      <th>Total_Stops</th>\n",
       "      <th>Additional_Info</th>\n",
       "      <th>Price</th>\n",
       "      <th>journey_year</th>\n",
       "      <th>journey_month</th>\n",
       "      <th>journey_day</th>\n",
       "      <th>Dep_Time_hour</th>\n",
       "      <th>Dep_Time_minute</th>\n",
       "      <th>Arrival_Time_hour</th>\n",
       "      <th>Arrival_Time_minute</th>\n",
       "    </tr>\n",
       "  </thead>\n",
       "  <tbody>\n",
       "    <tr>\n",
       "      <th>0</th>\n",
       "      <td>IndiGo</td>\n",
       "      <td>Banglore</td>\n",
       "      <td>New Delhi</td>\n",
       "      <td>BLR → DEL</td>\n",
       "      <td>2h 50m</td>\n",
       "      <td>non-stop</td>\n",
       "      <td>No info</td>\n",
       "      <td>3897</td>\n",
       "      <td>2019</td>\n",
       "      <td>3</td>\n",
       "      <td>24</td>\n",
       "      <td>22</td>\n",
       "      <td>20</td>\n",
       "      <td>1</td>\n",
       "      <td>10</td>\n",
       "    </tr>\n",
       "    <tr>\n",
       "      <th>1</th>\n",
       "      <td>Air India</td>\n",
       "      <td>Kolkata</td>\n",
       "      <td>Banglore</td>\n",
       "      <td>CCU → IXR → BBI → BLR</td>\n",
       "      <td>7h 25m</td>\n",
       "      <td>2 stops</td>\n",
       "      <td>No info</td>\n",
       "      <td>7662</td>\n",
       "      <td>2019</td>\n",
       "      <td>1</td>\n",
       "      <td>5</td>\n",
       "      <td>5</td>\n",
       "      <td>50</td>\n",
       "      <td>13</td>\n",
       "      <td>15</td>\n",
       "    </tr>\n",
       "  </tbody>\n",
       "</table>\n",
       "</div>"
      ],
      "text/plain": [
       "     Airline    Source Destination                  Route Duration  \\\n",
       "0     IndiGo  Banglore   New Delhi              BLR → DEL   2h 50m   \n",
       "1  Air India   Kolkata    Banglore  CCU → IXR → BBI → BLR   7h 25m   \n",
       "\n",
       "  Total_Stops Additional_Info  Price  journey_year  journey_month  \\\n",
       "0    non-stop         No info   3897          2019              3   \n",
       "1     2 stops         No info   7662          2019              1   \n",
       "\n",
       "   journey_day  Dep_Time_hour  Dep_Time_minute  Arrival_Time_hour  \\\n",
       "0           24             22               20                  1   \n",
       "1            5              5               50                 13   \n",
       "\n",
       "   Arrival_Time_minute  \n",
       "0                   10  \n",
       "1                   15  "
      ]
     },
     "execution_count": 410,
     "metadata": {},
     "output_type": "execute_result"
    }
   ],
   "source": [
    "df.head(2)"
   ]
  },
  {
   "cell_type": "code",
   "execution_count": 411,
   "id": "66a64e6f-22a3-49f4-a7e8-a2d7bee63bea",
   "metadata": {},
   "outputs": [],
   "source": [
    "def flight_dep_time(x):\n",
    "    if (x>4 and x<=8):\n",
    "        return 'Early Morning'\n",
    "    elif (x>8 and x<=12):\n",
    "        return 'Morning'\n",
    "    elif (x>12 and x<=16):\n",
    "        return 'Afternoon'\n",
    "    elif (x>16 and x<=20):\n",
    "        return 'Evening'\n",
    "    elif (x>20 and x<=24):\n",
    "        return 'Night'\n",
    "    else:\n",
    "        return 'Late Night'"
   ]
  },
  {
   "cell_type": "code",
   "execution_count": 412,
   "id": "a40e214d-2b58-4328-b905-57fd8125954d",
   "metadata": {},
   "outputs": [],
   "source": [
    "df['Dep_Time_Cat'] = df['Dep_Time_hour'].apply(flight_dep_time)"
   ]
  },
  {
   "cell_type": "code",
   "execution_count": 413,
   "id": "24f1e565-531b-4511-8d6a-7710ec565190",
   "metadata": {},
   "outputs": [
    {
     "data": {
      "text/plain": [
       "<AxesSubplot:>"
      ]
     },
     "execution_count": 413,
     "metadata": {},
     "output_type": "execute_result"
    },
    {
     "data": {
      "image/png": "[encoded data removed]",
      "text/plain": [
       "<Figure size 432x288 with 1 Axes>"
      ]
     },
     "metadata": {
      "needs_background": "light"
     },
     "output_type": "display_data"
    }
   ],
   "source": [
    "df.Dep_Time_Cat.value_counts().plot(kind='bar')"
   ]
  },
  {
   "cell_type": "code",
   "execution_count": 414,
   "id": "795da3f4-10c4-4adc-b304-da2ed9b7d31c",
   "metadata": {},
   "outputs": [],
   "source": [
    "def preprocess_duration(x):\n",
    "    \n",
    "    if 'h' not in x:\n",
    "        x='0h '+x\n",
    "    elif 'm' not in x:\n",
    "        x= x+ ' 0m'\n",
    "    a = int(x.split(' ')[0].strip('h'))\n",
    "    b = int(x.split(' ')[1].strip('m'))        \n",
    "    return (a*60) + b\n",
    "df['Dur_Tot_Mins'] = df.Duration.apply(preprocess_duration)"
   ]
  },
  {
   "cell_type": "code",
   "execution_count": 415,
   "id": "70091f87-04ee-48c0-ad1e-80d1cdc09de0",
   "metadata": {},
   "outputs": [
    {
     "data": {
      "text/plain": [
       "Delhi       4536\n",
       "Kolkata     2871\n",
       "Banglore    2197\n",
       "Mumbai       697\n",
       "Chennai      381\n",
       "Name: Source, dtype: int64"
      ]
     },
     "execution_count": 415,
     "metadata": {},
     "output_type": "execute_result"
    }
   ],
   "source": [
    "df.Source.value_counts()"
   ]
  },
  {
   "cell_type": "code",
   "execution_count": 416,
   "id": "29fa1161-82f3-4f02-9e7c-5fa02286da3a",
   "metadata": {},
   "outputs": [
    {
     "data": {
      "text/plain": [
       "Cochin       4536\n",
       "Banglore     2871\n",
       "Delhi        1265\n",
       "New Delhi     932\n",
       "Hyderabad     697\n",
       "Kolkata       381\n",
       "Name: Destination, dtype: int64"
      ]
     },
     "execution_count": 416,
     "metadata": {},
     "output_type": "execute_result"
    }
   ],
   "source": [
    "df.Destination.value_counts()"
   ]
  },
  {
   "cell_type": "code",
   "execution_count": 418,
   "id": "a29692eb-2e7b-43dd-94c5-08286d775a02",
   "metadata": {},
   "outputs": [
    {
     "data": {
      "text/plain": [
       "BLR → DEL                            1552\n",
       "BLR → BOM → DEL                       402\n",
       "BLR → HYD → DEL                        37\n",
       "BLR → MAA → DEL                        29\n",
       "BLR → AMD → DEL                        18\n",
       "BLR → COK → DEL                        15\n",
       "BLR → CCU → DEL                        11\n",
       "BLR → CCU → GAU → DEL                  11\n",
       "BLR → BOM → BHO → DEL                  11\n",
       "BLR → HYD → VGA → DEL                  10\n",
       "BLR → BOM → NAG → DEL                  10\n",
       "BLR → VGA → DEL                         9\n",
       "BLR → BDQ → DEL                         8\n",
       "BLR → GOI → DEL                         7\n",
       "BLR → BOM → JDH → DEL                   6\n",
       "BLR → IDR → DEL                         5\n",
       "BLR → CCU → BBI → DEL                   5\n",
       "BLR → BBI → DEL                         5\n",
       "BLR → BOM → IDR → DEL                   5\n",
       "BLR → PNQ → DEL                         5\n",
       "BLR → BOM → AMD → DEL                   5\n",
       "BLR → VGA → HYD → DEL                   4\n",
       "BLR → BOM → UDR → DEL                   3\n",
       "BLR → GAU → DEL                         3\n",
       "BLR → LKO → DEL                         3\n",
       "BLR → NAG → DEL                         3\n",
       "BLR → STV → DEL                         2\n",
       "BLR → VGA → VTZ → DEL                   2\n",
       "BLR → TRV → COK → DEL                   2\n",
       "BLR → BOM → IDR → GWL → DEL             2\n",
       "BLR → CCU → BBI → HYD → DEL             2\n",
       "BLR → HBX → BOM → BHO → DEL             1\n",
       "BLR → HBX → BOM → AMD → DEL             1\n",
       "BLR → HBX → BOM → NAG → DEL             1\n",
       "BLR → BOM → IXC → DEL                   1\n",
       "BLR → CCU → BBI → HYD → VGA → DEL       1\n",
       "Name: Route, dtype: int64"
      ]
     },
     "execution_count": 418,
     "metadata": {},
     "output_type": "execute_result"
    }
   ],
   "source": [
    "df[(df.Destination == 'Delhi') | (df.Destination == 'New Delhi')]['Route'].value_counts()"
   ]
  },
  {
   "cell_type": "code",
   "execution_count": 419,
   "id": "f5feb1c9-a358-45c5-b5be-0333cdf7979d",
   "metadata": {},
   "outputs": [],
   "source": [
    "'''\n",
    "Since Both 'New Delhi' and 'Delhi' are same destinations,\n",
    "we can combine them together in Destination Column\n",
    "'''\n",
    "\n",
    "# Function to combine desitnations together\n",
    "\n",
    "def destination_cleaning(x):\n",
    "            \n",
    "    if ('Delhi' or 'New Delhi') not in x:\n",
    "        return x\n",
    "    else:\n",
    "        return 'Delhi'\n",
    "\n",
    "df.Destination = df.Destination.apply(destination_cleaning)\n",
    "\n"
   ]
  },
  {
   "cell_type": "markdown",
   "id": "5e7563f3-834a-441d-98f3-0ad6f9ad4068",
   "metadata": {
    "tags": []
   },
   "source": [
    "#### Alternate to above function\n",
    "\n",
    "#### df[col].replace(x1,x,inplace =True)\n",
    "\n",
    "replace x1 values to x in the given column"
   ]
  },
  {
   "cell_type": "code",
   "execution_count": 437,
   "id": "200d0893-d46d-461a-abed-48340bdb6fde",
   "metadata": {},
   "outputs": [
    {
     "data": {
      "text/plain": [
       "<AxesSubplot:ylabel='Destination'>"
      ]
     },
     "execution_count": 437,
     "metadata": {},
     "output_type": "execute_result"
    },
    {
     "data": {
      "image/png": "[encoded data removed]",
      "text/plain": [
       "<Figure size 432x288 with 1 Axes>"
      ]
     },
     "metadata": {},
     "output_type": "display_data"
    }
   ],
   "source": [
    "df.Destination.value_counts().plot(kind='pie')"
   ]
  },
  {
   "cell_type": "code",
   "execution_count": 429,
   "id": "7271309d-f995-4a3a-8491-6cbfeebbe675",
   "metadata": {},
   "outputs": [
    {
     "data": {
      "text/plain": [
       "DEL → BOM → COK          2376\n",
       "BLR → DEL                1552\n",
       "CCU → BOM → BLR           979\n",
       "CCU → BLR                 724\n",
       "BOM → HYD                 621\n",
       "CCU → DEL → BLR           565\n",
       "BLR → BOM → DEL           402\n",
       "MAA → CCU                 381\n",
       "DEL → HYD → COK           326\n",
       "DEL → JAI → BOM → COK     240\n",
       "DEL → BLR → COK           232\n",
       "DEL → COK                 213\n",
       "DEL → AMD → BOM → COK     205\n",
       "DEL → MAA → COK           146\n",
       "DEL → IDR → BOM → COK      99\n",
       "DEL → HYD → MAA → COK      83\n",
       "DEL → NAG → BOM → COK      71\n",
       "CCU → MAA → BLR            65\n",
       "DEL → GOI → BOM → COK      58\n",
       "DEL → HYD → BOM → COK      56\n",
       "Name: Route, dtype: int64"
      ]
     },
     "execution_count": 429,
     "metadata": {},
     "output_type": "execute_result"
    }
   ],
   "source": [
    "df.Route.value_counts().head(20)"
   ]
  },
  {
   "cell_type": "markdown",
   "id": "bf133e14-08ca-4965-955f-820660d36067",
   "metadata": {},
   "source": [
    "# Idea 1: Draw India Map To show top 20 Flights"
   ]
  },
  {
   "cell_type": "code",
   "execution_count": null,
   "id": "99967430-fa8e-4479-9775-d2031b5e1672",
   "metadata": {},
   "outputs": [],
   "source": [
    "df.Dur_Tot_Mins"
   ]
  },
  {
   "cell_type": "code",
   "execution_count": 438,
   "id": "e85ec9d2-7d78-4716-a919-215a62123676",
   "metadata": {},
   "outputs": [
    {
     "data": {
      "text/plain": [
       "<seaborn.axisgrid.FacetGrid at 0x7fcc492a4af0>"
      ]
     },
     "execution_count": 438,
     "metadata": {},
     "output_type": "execute_result"
    },
    {
     "data": {
      "image/png": "[encoded data removed]",
      "text/plain": [
       "<Figure size 573.25x360 with 1 Axes>"
      ]
     },
     "metadata": {
      "needs_background": "light"
     },
     "output_type": "display_data"
    }
   ],
   "source": [
    "sns.lmplot(y='Price',x='Dur_Tot_Mins',data=df, hue='Airline')"
   ]
  },
  {
   "cell_type": "code",
   "execution_count": 439,
   "id": "51f10523-8cd3-4067-aa51-5a4aaf6c8a07",
   "metadata": {},
   "outputs": [],
   "source": [
    "df_airline = df.groupby('Airline')"
   ]
  },
  {
   "cell_type": "code",
   "execution_count": 460,
   "id": "7e52c71b-edf0-42dc-868d-ccd15bf331c1",
   "metadata": {},
   "outputs": [
    {
     "data": {
      "image/png": "[encoded data removed]",
      "text/plain": [
       "<Figure size 720x1080 with 1 Axes>"
      ]
     },
     "metadata": {
      "needs_background": "light"
     },
     "output_type": "display_data"
    }
   ],
   "source": [
    "plt.figure(figsize = (10,15))\n",
    "sns.violinplot(y='Airline',x='Price',data=df)\n",
    "_ = plt.xticks(rotation = 45)\n"
   ]
  },
  {
   "cell_type": "code",
   "execution_count": 463,
   "id": "d9f24e23-8278-4941-a071-9d237e9d8879",
   "metadata": {},
   "outputs": [
    {
     "data": {
      "image/png": "[encoded data removed]",
      "text/plain": [
       "<Figure size 720x1080 with 1 Axes>"
      ]
     },
     "metadata": {
      "needs_background": "light"
     },
     "output_type": "display_data"
    }
   ],
   "source": [
    "plt.figure(figsize = (10,15))\n",
    "sns.boxenplot(y='Airline',x='Price',data=df)\n",
    "_ = plt.xticks(rotation = 45)"
   ]
  },
  {
   "cell_type": "code",
   "execution_count": 483,
   "id": "c0dead7d-39e4-4d83-a10d-1204a5d84f77",
   "metadata": {},
   "outputs": [
    {
     "data": {
      "image/png": "[encoded data removed]",
      "text/plain": [
       "<Figure size 720x1080 with 1 Axes>"
      ]
     },
     "metadata": {
      "needs_background": "light"
     },
     "output_type": "display_data"
    }
   ],
   "source": [
    "plt.figure(figsize = (10,15))\n",
    "sns.boxenplot(y='Total_Stops',x='Price',data=df)\n",
    "_ = plt.xticks(rotation = 45)"
   ]
  },
  {
   "cell_type": "code",
   "execution_count": 505,
   "id": "3483625f-948a-425e-86dc-febdb4b7d181",
   "metadata": {},
   "outputs": [
    {
     "data": {
      "image/png": "[encoded data removed]",
      "text/plain": [
       "<Figure size 720x1080 with 1 Axes>"
      ]
     },
     "metadata": {
      "needs_background": "light"
     },
     "output_type": "display_data"
    }
   ],
   "source": [
    "plt.figure(figsize = (10,15))\n",
    "sns.boxenplot(y='Destination',x='Price',data=df)\n",
    "_ = plt.xticks(rotation = 45)"
   ]
  },
  {
   "cell_type": "code",
   "execution_count": 517,
   "id": "ff55f749-4088-4350-95b7-587750cf360a",
   "metadata": {},
   "outputs": [
    {
     "data": {
      "image/png": "[encoded data removed]",
      "text/plain": [
       "<Figure size 720x1080 with 1 Axes>"
      ]
     },
     "metadata": {
      "needs_background": "light"
     },
     "output_type": "display_data"
    }
   ],
   "source": [
    "plt.figure(figsize = (10,15))\n",
    "sns.boxenplot(y='Dep_Time_Cat',x='Price',data=df)\n",
    "_ = plt.xticks(rotation = 45)"
   ]
  },
  {
   "cell_type": "code",
   "execution_count": 467,
   "id": "19bf381a-af0e-48b0-af4c-63271b42af7b",
   "metadata": {},
   "outputs": [
    {
     "data": {
      "text/plain": [
       "No info                         78.11\n",
       "In-flight meal not included     18.55\n",
       "No check-in baggage included     3.00\n",
       "1 Long layover                   0.18\n",
       "Change airports                  0.07\n",
       "Business class                   0.04\n",
       "No Info                          0.03\n",
       "1 Short layover                  0.01\n",
       "Red-eye flight                   0.01\n",
       "2 Long layover                   0.01\n",
       "Name: Additional_Info, dtype: float64"
      ]
     },
     "execution_count": 467,
     "metadata": {},
     "output_type": "execute_result"
    }
   ],
   "source": [
    "# Checking 'Additional Info' Column\n",
    "np.round(df.Additional_Info.value_counts(normalize=True)*100,2)"
   ]
  },
  {
   "cell_type": "markdown",
   "id": "4b37c902-2462-423f-9652-8319996d5534",
   "metadata": {},
   "source": [
    "##### As 78 % of Data in 'Additional Info' has NO INFO (pun intended) we can drop this column"
   ]
  },
  {
   "cell_type": "code",
   "execution_count": 469,
   "id": "9f05df4d-397d-4cd6-9276-178344faecd8",
   "metadata": {},
   "outputs": [
    {
     "data": {
      "text/plain": [
       "0    No info\n",
       "1    No info\n",
       "2    No info\n",
       "3    No info\n",
       "4    No info\n",
       "Name: Additional_Info, dtype: object"
      ]
     },
     "execution_count": 469,
     "metadata": {},
     "output_type": "execute_result"
    }
   ],
   "source": [
    "df.pop('Additional_Info') # Removes the column from data frame"
   ]
  },
  {
   "cell_type": "code",
   "execution_count": 474,
   "id": "e70c93cb-7286-45bf-be76-3de5bcad9408",
   "metadata": {},
   "outputs": [],
   "source": [
    "df.drop(columns = ['Route','journey_year','Duration'],axis =1 , inplace = True)"
   ]
  },
  {
   "cell_type": "code",
   "execution_count": 481,
   "id": "2846cf2e-d464-4e7e-8091-875cc9ca2fbb",
   "metadata": {},
   "outputs": [],
   "source": [
    "# Fix Total_Stops Column\n",
    "def total_Stops(x):\n",
    "    if x == 'non-stop':\n",
    "        return 0\n",
    "    else:\n",
    "        x.split(' ')\n",
    "        x = int(x[0])\n",
    "        return x\n",
    "    \n",
    "df['Total_Stops_1'] = df.Total_Stops.apply(total_Stops)"
   ]
  },
  {
   "cell_type": "code",
   "execution_count": 482,
   "id": "390d79d3-2817-4d6e-bac2-f30abd168251",
   "metadata": {},
   "outputs": [
    {
     "data": {
      "text/plain": [
       "1    5625\n",
       "0    3491\n",
       "2    1520\n",
       "3      45\n",
       "4       1\n",
       "Name: Total_Stops_1, dtype: int64"
      ]
     },
     "execution_count": 482,
     "metadata": {},
     "output_type": "execute_result"
    }
   ],
   "source": [
    "df.Total_Stops_1.value_counts()"
   ]
  },
  {
   "cell_type": "code",
   "execution_count": 476,
   "id": "2656a9ef-94b0-4d47-ac2f-98e340b64186",
   "metadata": {},
   "outputs": [
    {
     "data": {
      "text/plain": [
       "(10682, 13)"
      ]
     },
     "execution_count": 476,
     "metadata": {},
     "output_type": "execute_result"
    }
   ],
   "source": [
    "df.shape"
   ]
  },
  {
   "cell_type": "code",
   "execution_count": 477,
   "id": "0f9ba39b-c621-41bc-b6a6-1454604361ba",
   "metadata": {},
   "outputs": [
    {
     "data": {
      "text/html": [
       "<div>\n",
       "<style scoped>\n",
       "    .dataframe tbody tr th:only-of-type {\n",
       "        vertical-align: middle;\n",
       "    }\n",
       "\n",
       "    .dataframe tbody tr th {\n",
       "        vertical-align: top;\n",
       "    }\n",
       "\n",
       "    .dataframe thead th {\n",
       "        text-align: right;\n",
       "    }\n",
       "</style>\n",
       "<table border=\"1\" class=\"dataframe\">\n",
       "  <thead>\n",
       "    <tr style=\"text-align: right;\">\n",
       "      <th></th>\n",
       "      <th>Airline</th>\n",
       "      <th>Source</th>\n",
       "      <th>Destination</th>\n",
       "      <th>Total_Stops</th>\n",
       "      <th>Price</th>\n",
       "      <th>journey_month</th>\n",
       "      <th>journey_day</th>\n",
       "      <th>Dep_Time_hour</th>\n",
       "      <th>Dep_Time_minute</th>\n",
       "      <th>Arrival_Time_hour</th>\n",
       "      <th>Arrival_Time_minute</th>\n",
       "      <th>Dep_Time_Cat</th>\n",
       "      <th>Dur_Tot_Mins</th>\n",
       "    </tr>\n",
       "  </thead>\n",
       "  <tbody>\n",
       "    <tr>\n",
       "      <th>0</th>\n",
       "      <td>IndiGo</td>\n",
       "      <td>Banglore</td>\n",
       "      <td>Delhi</td>\n",
       "      <td>non-stop</td>\n",
       "      <td>3897</td>\n",
       "      <td>3</td>\n",
       "      <td>24</td>\n",
       "      <td>22</td>\n",
       "      <td>20</td>\n",
       "      <td>1</td>\n",
       "      <td>10</td>\n",
       "      <td>Night</td>\n",
       "      <td>170</td>\n",
       "    </tr>\n",
       "    <tr>\n",
       "      <th>1</th>\n",
       "      <td>Air India</td>\n",
       "      <td>Kolkata</td>\n",
       "      <td>Banglore</td>\n",
       "      <td>2 stops</td>\n",
       "      <td>7662</td>\n",
       "      <td>1</td>\n",
       "      <td>5</td>\n",
       "      <td>5</td>\n",
       "      <td>50</td>\n",
       "      <td>13</td>\n",
       "      <td>15</td>\n",
       "      <td>Early Morning</td>\n",
       "      <td>445</td>\n",
       "    </tr>\n",
       "    <tr>\n",
       "      <th>2</th>\n",
       "      <td>Jet Airways</td>\n",
       "      <td>Delhi</td>\n",
       "      <td>Cochin</td>\n",
       "      <td>2 stops</td>\n",
       "      <td>13882</td>\n",
       "      <td>9</td>\n",
       "      <td>6</td>\n",
       "      <td>9</td>\n",
       "      <td>25</td>\n",
       "      <td>4</td>\n",
       "      <td>25</td>\n",
       "      <td>Morning</td>\n",
       "      <td>1140</td>\n",
       "    </tr>\n",
       "    <tr>\n",
       "      <th>3</th>\n",
       "      <td>IndiGo</td>\n",
       "      <td>Kolkata</td>\n",
       "      <td>Banglore</td>\n",
       "      <td>1 stop</td>\n",
       "      <td>6218</td>\n",
       "      <td>12</td>\n",
       "      <td>5</td>\n",
       "      <td>18</td>\n",
       "      <td>5</td>\n",
       "      <td>23</td>\n",
       "      <td>30</td>\n",
       "      <td>Evening</td>\n",
       "      <td>325</td>\n",
       "    </tr>\n",
       "    <tr>\n",
       "      <th>4</th>\n",
       "      <td>IndiGo</td>\n",
       "      <td>Banglore</td>\n",
       "      <td>Delhi</td>\n",
       "      <td>1 stop</td>\n",
       "      <td>13302</td>\n",
       "      <td>1</td>\n",
       "      <td>3</td>\n",
       "      <td>16</td>\n",
       "      <td>50</td>\n",
       "      <td>21</td>\n",
       "      <td>35</td>\n",
       "      <td>Afternoon</td>\n",
       "      <td>285</td>\n",
       "    </tr>\n",
       "  </tbody>\n",
       "</table>\n",
       "</div>"
      ],
      "text/plain": [
       "       Airline    Source Destination Total_Stops  Price  journey_month  \\\n",
       "0       IndiGo  Banglore       Delhi    non-stop   3897              3   \n",
       "1    Air India   Kolkata    Banglore     2 stops   7662              1   \n",
       "2  Jet Airways     Delhi      Cochin     2 stops  13882              9   \n",
       "3       IndiGo   Kolkata    Banglore      1 stop   6218             12   \n",
       "4       IndiGo  Banglore       Delhi      1 stop  13302              1   \n",
       "\n",
       "   journey_day  Dep_Time_hour  Dep_Time_minute  Arrival_Time_hour  \\\n",
       "0           24             22               20                  1   \n",
       "1            5              5               50                 13   \n",
       "2            6              9               25                  4   \n",
       "3            5             18                5                 23   \n",
       "4            3             16               50                 21   \n",
       "\n",
       "   Arrival_Time_minute   Dep_Time_Cat  Dur_Tot_Mins  \n",
       "0                   10          Night           170  \n",
       "1                   15  Early Morning           445  \n",
       "2                   25        Morning          1140  \n",
       "3                   30        Evening           325  \n",
       "4                   35      Afternoon           285  "
      ]
     },
     "execution_count": 477,
     "metadata": {},
     "output_type": "execute_result"
    }
   ],
   "source": [
    "df.head()"
   ]
  },
  {
   "cell_type": "markdown",
   "id": "20e6630a-7f91-4f5a-980a-2ed838725d68",
   "metadata": {},
   "source": [
    "# Target Encoding\n",
    "\n",
    "In this scenario we can give high number to a airline which usually has high avg price visa-vis lower number to a airline whose average price is low"
   ]
  },
  {
   "cell_type": "code",
   "execution_count": 486,
   "id": "03a705a2-b172-4393-8e73-a00edae878d9",
   "metadata": {},
   "outputs": [],
   "source": [
    "airline = df.groupby('Airline')['Price'].mean().sort_values().index"
   ]
  },
  {
   "cell_type": "code",
   "execution_count": 487,
   "id": "37ee098e-ea62-47d4-aa84-f631258fa1c6",
   "metadata": {},
   "outputs": [
    {
     "data": {
      "text/plain": [
       "Index(['Trujet', 'SpiceJet', 'Air Asia', 'IndiGo', 'GoAir', 'Vistara',\n",
       "       'Vistara Premium economy', 'Air India', 'Multiple carriers',\n",
       "       'Multiple carriers Premium economy', 'Jet Airways',\n",
       "       'Jet Airways Business'],\n",
       "      dtype='object', name='Airline')"
      ]
     },
     "execution_count": 487,
     "metadata": {},
     "output_type": "execute_result"
    }
   ],
   "source": [
    "airline"
   ]
  },
  {
   "cell_type": "code",
   "execution_count": 488,
   "id": "6e879160-f9df-4f47-bedd-f7ca6417abac",
   "metadata": {},
   "outputs": [
    {
     "data": {
      "text/plain": [
       "{'Trujet': 0,\n",
       " 'SpiceJet': 1,\n",
       " 'Air Asia': 2,\n",
       " 'IndiGo': 3,\n",
       " 'GoAir': 4,\n",
       " 'Vistara': 5,\n",
       " 'Vistara Premium economy': 6,\n",
       " 'Air India': 7,\n",
       " 'Multiple carriers': 8,\n",
       " 'Multiple carriers Premium economy': 9,\n",
       " 'Jet Airways': 10,\n",
       " 'Jet Airways Business': 11}"
      ]
     },
     "execution_count": 488,
     "metadata": {},
     "output_type": "execute_result"
    }
   ],
   "source": [
    "dict1 = {key:index for index,key in enumerate(airline,0)}\n",
    "dict1"
   ]
  },
  {
   "cell_type": "code",
   "execution_count": 491,
   "id": "c708b296-1821-45c2-a09e-8c679217088f",
   "metadata": {},
   "outputs": [],
   "source": [
    "df['Airline']= df.Airline.map(dict1)"
   ]
  },
  {
   "cell_type": "code",
   "execution_count": 500,
   "id": "63fbbdd0-f8c0-4163-a3f8-f8e3ccdd74e2",
   "metadata": {},
   "outputs": [],
   "source": [
    "df = pd.concat([df,pd.get_dummies(df['Source'],prefix='Source',prefix_sep='_')],axis=1)"
   ]
  },
  {
   "cell_type": "code",
   "execution_count": 501,
   "id": "238fc012-55ed-4aee-b814-5b6cf3d1c23e",
   "metadata": {},
   "outputs": [
    {
     "data": {
      "text/html": [
       "<div>\n",
       "<style scoped>\n",
       "    .dataframe tbody tr th:only-of-type {\n",
       "        vertical-align: middle;\n",
       "    }\n",
       "\n",
       "    .dataframe tbody tr th {\n",
       "        vertical-align: top;\n",
       "    }\n",
       "\n",
       "    .dataframe thead th {\n",
       "        text-align: right;\n",
       "    }\n",
       "</style>\n",
       "<table border=\"1\" class=\"dataframe\">\n",
       "  <thead>\n",
       "    <tr style=\"text-align: right;\">\n",
       "      <th></th>\n",
       "      <th>Airline</th>\n",
       "      <th>Destination</th>\n",
       "      <th>Total_Stops</th>\n",
       "      <th>Price</th>\n",
       "      <th>journey_month</th>\n",
       "      <th>journey_day</th>\n",
       "      <th>Dep_Time_hour</th>\n",
       "      <th>Dep_Time_minute</th>\n",
       "      <th>Arrival_Time_hour</th>\n",
       "      <th>Arrival_Time_minute</th>\n",
       "      <th>Dep_Time_Cat</th>\n",
       "      <th>Dur_Tot_Mins</th>\n",
       "      <th>Total_Stops_1</th>\n",
       "      <th>Source_Banglore</th>\n",
       "      <th>Source_Chennai</th>\n",
       "      <th>Source_Delhi</th>\n",
       "      <th>Source_Kolkata</th>\n",
       "      <th>Source_Mumbai</th>\n",
       "    </tr>\n",
       "  </thead>\n",
       "  <tbody>\n",
       "    <tr>\n",
       "      <th>0</th>\n",
       "      <td>3</td>\n",
       "      <td>Delhi</td>\n",
       "      <td>non-stop</td>\n",
       "      <td>3897</td>\n",
       "      <td>3</td>\n",
       "      <td>24</td>\n",
       "      <td>22</td>\n",
       "      <td>20</td>\n",
       "      <td>1</td>\n",
       "      <td>10</td>\n",
       "      <td>Night</td>\n",
       "      <td>170</td>\n",
       "      <td>0</td>\n",
       "      <td>1</td>\n",
       "      <td>0</td>\n",
       "      <td>0</td>\n",
       "      <td>0</td>\n",
       "      <td>0</td>\n",
       "    </tr>\n",
       "    <tr>\n",
       "      <th>1</th>\n",
       "      <td>7</td>\n",
       "      <td>Banglore</td>\n",
       "      <td>2 stops</td>\n",
       "      <td>7662</td>\n",
       "      <td>1</td>\n",
       "      <td>5</td>\n",
       "      <td>5</td>\n",
       "      <td>50</td>\n",
       "      <td>13</td>\n",
       "      <td>15</td>\n",
       "      <td>Early Morning</td>\n",
       "      <td>445</td>\n",
       "      <td>2</td>\n",
       "      <td>0</td>\n",
       "      <td>0</td>\n",
       "      <td>0</td>\n",
       "      <td>1</td>\n",
       "      <td>0</td>\n",
       "    </tr>\n",
       "    <tr>\n",
       "      <th>2</th>\n",
       "      <td>10</td>\n",
       "      <td>Cochin</td>\n",
       "      <td>2 stops</td>\n",
       "      <td>13882</td>\n",
       "      <td>9</td>\n",
       "      <td>6</td>\n",
       "      <td>9</td>\n",
       "      <td>25</td>\n",
       "      <td>4</td>\n",
       "      <td>25</td>\n",
       "      <td>Morning</td>\n",
       "      <td>1140</td>\n",
       "      <td>2</td>\n",
       "      <td>0</td>\n",
       "      <td>0</td>\n",
       "      <td>1</td>\n",
       "      <td>0</td>\n",
       "      <td>0</td>\n",
       "    </tr>\n",
       "    <tr>\n",
       "      <th>3</th>\n",
       "      <td>3</td>\n",
       "      <td>Banglore</td>\n",
       "      <td>1 stop</td>\n",
       "      <td>6218</td>\n",
       "      <td>12</td>\n",
       "      <td>5</td>\n",
       "      <td>18</td>\n",
       "      <td>5</td>\n",
       "      <td>23</td>\n",
       "      <td>30</td>\n",
       "      <td>Evening</td>\n",
       "      <td>325</td>\n",
       "      <td>1</td>\n",
       "      <td>0</td>\n",
       "      <td>0</td>\n",
       "      <td>0</td>\n",
       "      <td>1</td>\n",
       "      <td>0</td>\n",
       "    </tr>\n",
       "    <tr>\n",
       "      <th>4</th>\n",
       "      <td>3</td>\n",
       "      <td>Delhi</td>\n",
       "      <td>1 stop</td>\n",
       "      <td>13302</td>\n",
       "      <td>1</td>\n",
       "      <td>3</td>\n",
       "      <td>16</td>\n",
       "      <td>50</td>\n",
       "      <td>21</td>\n",
       "      <td>35</td>\n",
       "      <td>Afternoon</td>\n",
       "      <td>285</td>\n",
       "      <td>1</td>\n",
       "      <td>1</td>\n",
       "      <td>0</td>\n",
       "      <td>0</td>\n",
       "      <td>0</td>\n",
       "      <td>0</td>\n",
       "    </tr>\n",
       "  </tbody>\n",
       "</table>\n",
       "</div>"
      ],
      "text/plain": [
       "   Airline Destination Total_Stops  Price  journey_month  journey_day  \\\n",
       "0        3       Delhi    non-stop   3897              3           24   \n",
       "1        7    Banglore     2 stops   7662              1            5   \n",
       "2       10      Cochin     2 stops  13882              9            6   \n",
       "3        3    Banglore      1 stop   6218             12            5   \n",
       "4        3       Delhi      1 stop  13302              1            3   \n",
       "\n",
       "   Dep_Time_hour  Dep_Time_minute  Arrival_Time_hour  Arrival_Time_minute  \\\n",
       "0             22               20                  1                   10   \n",
       "1              5               50                 13                   15   \n",
       "2              9               25                  4                   25   \n",
       "3             18                5                 23                   30   \n",
       "4             16               50                 21                   35   \n",
       "\n",
       "    Dep_Time_Cat  Dur_Tot_Mins  Total_Stops_1  Source_Banglore  \\\n",
       "0          Night           170              0                1   \n",
       "1  Early Morning           445              2                0   \n",
       "2        Morning          1140              2                0   \n",
       "3        Evening           325              1                0   \n",
       "4      Afternoon           285              1                1   \n",
       "\n",
       "   Source_Chennai  Source_Delhi  Source_Kolkata  Source_Mumbai  \n",
       "0               0             0               0              0  \n",
       "1               0             0               1              0  \n",
       "2               0             1               0              0  \n",
       "3               0             0               1              0  \n",
       "4               0             0               0              0  "
      ]
     },
     "execution_count": 501,
     "metadata": {},
     "output_type": "execute_result"
    }
   ],
   "source": [
    "df.drop(columns='Source',inplace=True)\n",
    "df.head()"
   ]
  },
  {
   "cell_type": "code",
   "execution_count": 509,
   "id": "bc70ddf3-2987-4ca0-9c4a-863f1232ff94",
   "metadata": {},
   "outputs": [],
   "source": [
    "dict2 = {key:index for index,key in enumerate(df.groupby('Destination')['Price'].mean().sort_values().index,0)}"
   ]
  },
  {
   "cell_type": "code",
   "execution_count": 510,
   "id": "676b1666-1ac5-4d8a-8c35-165e43ca2448",
   "metadata": {},
   "outputs": [
    {
     "data": {
      "text/plain": [
       "{'Kolkata': 0, 'Hyderabad': 1, 'Delhi': 2, 'Banglore': 3, 'Cochin': 4}"
      ]
     },
     "execution_count": 510,
     "metadata": {},
     "output_type": "execute_result"
    }
   ],
   "source": [
    "dict2"
   ]
  },
  {
   "cell_type": "code",
   "execution_count": 511,
   "id": "3317682b-34a6-4bb2-bc3e-2b81c6fb25b0",
   "metadata": {},
   "outputs": [],
   "source": [
    "df.Destination = df.Destination.map(dict2)"
   ]
  },
  {
   "cell_type": "code",
   "execution_count": 513,
   "id": "bea68064-fab0-4c88-ad70-af635bfbb346",
   "metadata": {},
   "outputs": [],
   "source": [
    "df.Total_Stops = df.Total_Stops_1"
   ]
  },
  {
   "cell_type": "code",
   "execution_count": 515,
   "id": "dad77c35-1467-41cc-947e-c0071a6aa539",
   "metadata": {},
   "outputs": [
    {
     "data": {
      "text/plain": [
       "0        0\n",
       "1        2\n",
       "2        2\n",
       "3        1\n",
       "4        1\n",
       "        ..\n",
       "10678    0\n",
       "10679    0\n",
       "10680    0\n",
       "10681    0\n",
       "10682    2\n",
       "Name: Total_Stops_1, Length: 10682, dtype: int64"
      ]
     },
     "execution_count": 515,
     "metadata": {},
     "output_type": "execute_result"
    }
   ],
   "source": [
    "df.pop('Total_Stops_1')"
   ]
  },
  {
   "cell_type": "code",
   "execution_count": 516,
   "id": "127979f6-ea75-472b-b0cc-aff612563a5b",
   "metadata": {},
   "outputs": [
    {
     "data": {
      "text/html": [
       "<div>\n",
       "<style scoped>\n",
       "    .dataframe tbody tr th:only-of-type {\n",
       "        vertical-align: middle;\n",
       "    }\n",
       "\n",
       "    .dataframe tbody tr th {\n",
       "        vertical-align: top;\n",
       "    }\n",
       "\n",
       "    .dataframe thead th {\n",
       "        text-align: right;\n",
       "    }\n",
       "</style>\n",
       "<table border=\"1\" class=\"dataframe\">\n",
       "  <thead>\n",
       "    <tr style=\"text-align: right;\">\n",
       "      <th></th>\n",
       "      <th>Airline</th>\n",
       "      <th>Destination</th>\n",
       "      <th>Total_Stops</th>\n",
       "      <th>Price</th>\n",
       "      <th>journey_month</th>\n",
       "      <th>journey_day</th>\n",
       "      <th>Dep_Time_hour</th>\n",
       "      <th>Dep_Time_minute</th>\n",
       "      <th>Arrival_Time_hour</th>\n",
       "      <th>Arrival_Time_minute</th>\n",
       "      <th>Dep_Time_Cat</th>\n",
       "      <th>Dur_Tot_Mins</th>\n",
       "      <th>Source_Banglore</th>\n",
       "      <th>Source_Chennai</th>\n",
       "      <th>Source_Delhi</th>\n",
       "      <th>Source_Kolkata</th>\n",
       "      <th>Source_Mumbai</th>\n",
       "    </tr>\n",
       "  </thead>\n",
       "  <tbody>\n",
       "    <tr>\n",
       "      <th>0</th>\n",
       "      <td>3</td>\n",
       "      <td>2</td>\n",
       "      <td>0</td>\n",
       "      <td>3897</td>\n",
       "      <td>3</td>\n",
       "      <td>24</td>\n",
       "      <td>22</td>\n",
       "      <td>20</td>\n",
       "      <td>1</td>\n",
       "      <td>10</td>\n",
       "      <td>Night</td>\n",
       "      <td>170</td>\n",
       "      <td>1</td>\n",
       "      <td>0</td>\n",
       "      <td>0</td>\n",
       "      <td>0</td>\n",
       "      <td>0</td>\n",
       "    </tr>\n",
       "    <tr>\n",
       "      <th>1</th>\n",
       "      <td>7</td>\n",
       "      <td>3</td>\n",
       "      <td>2</td>\n",
       "      <td>7662</td>\n",
       "      <td>1</td>\n",
       "      <td>5</td>\n",
       "      <td>5</td>\n",
       "      <td>50</td>\n",
       "      <td>13</td>\n",
       "      <td>15</td>\n",
       "      <td>Early Morning</td>\n",
       "      <td>445</td>\n",
       "      <td>0</td>\n",
       "      <td>0</td>\n",
       "      <td>0</td>\n",
       "      <td>1</td>\n",
       "      <td>0</td>\n",
       "    </tr>\n",
       "    <tr>\n",
       "      <th>2</th>\n",
       "      <td>10</td>\n",
       "      <td>4</td>\n",
       "      <td>2</td>\n",
       "      <td>13882</td>\n",
       "      <td>9</td>\n",
       "      <td>6</td>\n",
       "      <td>9</td>\n",
       "      <td>25</td>\n",
       "      <td>4</td>\n",
       "      <td>25</td>\n",
       "      <td>Morning</td>\n",
       "      <td>1140</td>\n",
       "      <td>0</td>\n",
       "      <td>0</td>\n",
       "      <td>1</td>\n",
       "      <td>0</td>\n",
       "      <td>0</td>\n",
       "    </tr>\n",
       "    <tr>\n",
       "      <th>3</th>\n",
       "      <td>3</td>\n",
       "      <td>3</td>\n",
       "      <td>1</td>\n",
       "      <td>6218</td>\n",
       "      <td>12</td>\n",
       "      <td>5</td>\n",
       "      <td>18</td>\n",
       "      <td>5</td>\n",
       "      <td>23</td>\n",
       "      <td>30</td>\n",
       "      <td>Evening</td>\n",
       "      <td>325</td>\n",
       "      <td>0</td>\n",
       "      <td>0</td>\n",
       "      <td>0</td>\n",
       "      <td>1</td>\n",
       "      <td>0</td>\n",
       "    </tr>\n",
       "    <tr>\n",
       "      <th>4</th>\n",
       "      <td>3</td>\n",
       "      <td>2</td>\n",
       "      <td>1</td>\n",
       "      <td>13302</td>\n",
       "      <td>1</td>\n",
       "      <td>3</td>\n",
       "      <td>16</td>\n",
       "      <td>50</td>\n",
       "      <td>21</td>\n",
       "      <td>35</td>\n",
       "      <td>Afternoon</td>\n",
       "      <td>285</td>\n",
       "      <td>1</td>\n",
       "      <td>0</td>\n",
       "      <td>0</td>\n",
       "      <td>0</td>\n",
       "      <td>0</td>\n",
       "    </tr>\n",
       "  </tbody>\n",
       "</table>\n",
       "</div>"
      ],
      "text/plain": [
       "   Airline  Destination  Total_Stops  Price  journey_month  journey_day  \\\n",
       "0        3            2            0   3897              3           24   \n",
       "1        7            3            2   7662              1            5   \n",
       "2       10            4            2  13882              9            6   \n",
       "3        3            3            1   6218             12            5   \n",
       "4        3            2            1  13302              1            3   \n",
       "\n",
       "   Dep_Time_hour  Dep_Time_minute  Arrival_Time_hour  Arrival_Time_minute  \\\n",
       "0             22               20                  1                   10   \n",
       "1              5               50                 13                   15   \n",
       "2              9               25                  4                   25   \n",
       "3             18                5                 23                   30   \n",
       "4             16               50                 21                   35   \n",
       "\n",
       "    Dep_Time_Cat  Dur_Tot_Mins  Source_Banglore  Source_Chennai  Source_Delhi  \\\n",
       "0          Night           170                1               0             0   \n",
       "1  Early Morning           445                0               0             0   \n",
       "2        Morning          1140                0               0             1   \n",
       "3        Evening           325                0               0             0   \n",
       "4      Afternoon           285                1               0             0   \n",
       "\n",
       "   Source_Kolkata  Source_Mumbai  \n",
       "0               0              0  \n",
       "1               1              0  \n",
       "2               0              0  \n",
       "3               1              0  \n",
       "4               0              0  "
      ]
     },
     "execution_count": 516,
     "metadata": {},
     "output_type": "execute_result"
    }
   ],
   "source": [
    "df.head()"
   ]
  },
  {
   "cell_type": "code",
   "execution_count": 520,
   "id": "6314dd9e-4ea9-4973-b253-0a0a4d84f048",
   "metadata": {},
   "outputs": [
    {
     "data": {
      "text/plain": [
       "170    550\n",
       "90     386\n",
       "165    337\n",
       "175    337\n",
       "155    329\n",
       "180    261\n",
       "140    238\n",
       "150    220\n",
       "160    158\n",
       "85     135\n",
       "135    135\n",
       "145     98\n",
       "810     97\n",
       "800     89\n",
       "195     88\n",
       "450     86\n",
       "570     85\n",
       "520     81\n",
       "435     79\n",
       "185     78\n",
       "Name: Dur_Tot_Mins, dtype: int64"
      ]
     },
     "execution_count": 520,
     "metadata": {},
     "output_type": "execute_result"
    }
   ],
   "source": [
    "df.Dur_Tot_Mins.value_counts().head(20)"
   ]
  },
  {
   "cell_type": "code",
   "execution_count": 526,
   "id": "c97e7a1a-cb18-4701-8c20-f68006c056dc",
   "metadata": {},
   "outputs": [
    {
     "name": "stdout",
     "output_type": "stream",
     "text": [
      "<class 'pandas.core.frame.DataFrame'>\n",
      "Int64Index: 10682 entries, 0 to 10682\n",
      "Data columns (total 17 columns):\n",
      " #   Column               Non-Null Count  Dtype \n",
      "---  ------               --------------  ----- \n",
      " 0   Airline              10682 non-null  int64 \n",
      " 1   Destination          10682 non-null  int64 \n",
      " 2   Total_Stops          10682 non-null  int64 \n",
      " 3   Price                10682 non-null  int64 \n",
      " 4   journey_month        10682 non-null  int64 \n",
      " 5   journey_day          10682 non-null  int64 \n",
      " 6   Dep_Time_hour        10682 non-null  int64 \n",
      " 7   Dep_Time_minute      10682 non-null  int64 \n",
      " 8   Arrival_Time_hour    10682 non-null  int64 \n",
      " 9   Arrival_Time_minute  10682 non-null  int64 \n",
      " 10  Dep_Time_Cat         10682 non-null  object\n",
      " 11  Dur_Tot_Mins         10682 non-null  int64 \n",
      " 12  Source_Banglore      10682 non-null  uint8 \n",
      " 13  Source_Chennai       10682 non-null  uint8 \n",
      " 14  Source_Delhi         10682 non-null  uint8 \n",
      " 15  Source_Kolkata       10682 non-null  uint8 \n",
      " 16  Source_Mumbai        10682 non-null  uint8 \n",
      "dtypes: int64(11), object(1), uint8(5)\n",
      "memory usage: 1.4+ MB\n"
     ]
    }
   ],
   "source": [
    "df.info()\n",
    "col = ['Price','Dur_Tot_Mins']"
   ]
  },
  {
   "cell_type": "code",
   "execution_count": 527,
   "id": "c7012d4b-afaa-42fa-a26f-915c20499184",
   "metadata": {},
   "outputs": [
    {
     "data": {
      "text/plain": [
       "<seaborn.axisgrid.PairGrid at 0x7fcc4fe72970>"
      ]
     },
     "execution_count": 527,
     "metadata": {},
     "output_type": "execute_result"
    },
    {
     "data": {
      "image/png": "[encoded data removed]",
      "text/plain": [
       "<Figure size 360x360 with 6 Axes>"
      ]
     },
     "metadata": {
      "needs_background": "light"
     },
     "output_type": "display_data"
    }
   ],
   "source": [
    "sns.pairplot(df[col])"
   ]
  },
  {
   "cell_type": "code",
   "execution_count": 543,
   "id": "3c3e724b-5e18-478a-ba42-1b226298e60f",
   "metadata": {},
   "outputs": [],
   "source": [
    "def plot_df(df,col):\n",
    "    plt.figure(figsize = (15,10))\n",
    "    fig,(ax1,ax2,ax3) = plt.subplots(3,1)\n",
    "    sns.distplot(df[col],ax=ax1)\n",
    "    sns.distplot(df[col],ax=ax2,kde=False)\n",
    "    sns.boxplot(df[col],ax=ax3)\n",
    "    \n",
    "    return"
   ]
  },
  {
   "cell_type": "code",
   "execution_count": 544,
   "id": "16b70314-16c8-4c6f-8f8d-810c5c88eeb0",
   "metadata": {},
   "outputs": [
    {
     "name": "stderr",
     "output_type": "stream",
     "text": [
      "/Users/sneha_abhi/opt/anaconda3/lib/python3.9/site-packages/seaborn/distributions.py:2619: FutureWarning: `distplot` is a deprecated function and will be removed in a future version. Please adapt your code to use either `displot` (a figure-level function with similar flexibility) or `histplot` (an axes-level function for histograms).\n",
      "  warnings.warn(msg, FutureWarning)\n",
      "/Users/sneha_abhi/opt/anaconda3/lib/python3.9/site-packages/seaborn/distributions.py:2619: FutureWarning: `distplot` is a deprecated function and will be removed in a future version. Please adapt your code to use either `displot` (a figure-level function with similar flexibility) or `histplot` (an axes-level function for histograms).\n",
      "  warnings.warn(msg, FutureWarning)\n",
      "/Users/sneha_abhi/opt/anaconda3/lib/python3.9/site-packages/seaborn/_decorators.py:36: FutureWarning: Pass the following variable as a keyword arg: x. From version 0.12, the only valid positional argument will be `data`, and passing other arguments without an explicit keyword will result in an error or misinterpretation.\n",
      "  warnings.warn(\n"
     ]
    },
    {
     "data": {
      "text/plain": [
       "<Figure size 1080x720 with 0 Axes>"
      ]
     },
     "metadata": {},
     "output_type": "display_data"
    },
    {
     "data": {
      "image/png": "[encoded data removed]",
      "text/plain": [
       "<Figure size 432x288 with 3 Axes>"
      ]
     },
     "metadata": {
      "needs_background": "light"
     },
     "output_type": "display_data"
    }
   ],
   "source": [
    "plot_df(df,'Price')"
   ]
  },
  {
   "cell_type": "code",
   "execution_count": 548,
   "id": "5c69d3eb-9dad-452c-b02e-cd7ca0edf25f",
   "metadata": {},
   "outputs": [],
   "source": [
    "df['Price'] = np.where(df['Price']>=35000, df['Price'].median(),df['Price'])"
   ]
  },
  {
   "cell_type": "code",
   "execution_count": 549,
   "id": "bd21ce0b-6f45-42e9-a40e-f41a05e7f4f0",
   "metadata": {},
   "outputs": [
    {
     "name": "stderr",
     "output_type": "stream",
     "text": [
      "/Users/sneha_abhi/opt/anaconda3/lib/python3.9/site-packages/seaborn/distributions.py:2619: FutureWarning: `distplot` is a deprecated function and will be removed in a future version. Please adapt your code to use either `displot` (a figure-level function with similar flexibility) or `histplot` (an axes-level function for histograms).\n",
      "  warnings.warn(msg, FutureWarning)\n",
      "/Users/sneha_abhi/opt/anaconda3/lib/python3.9/site-packages/seaborn/distributions.py:2619: FutureWarning: `distplot` is a deprecated function and will be removed in a future version. Please adapt your code to use either `displot` (a figure-level function with similar flexibility) or `histplot` (an axes-level function for histograms).\n",
      "  warnings.warn(msg, FutureWarning)\n",
      "/Users/sneha_abhi/opt/anaconda3/lib/python3.9/site-packages/seaborn/_decorators.py:36: FutureWarning: Pass the following variable as a keyword arg: x. From version 0.12, the only valid positional argument will be `data`, and passing other arguments without an explicit keyword will result in an error or misinterpretation.\n",
      "  warnings.warn(\n"
     ]
    },
    {
     "data": {
      "text/plain": [
       "<Figure size 1080x720 with 0 Axes>"
      ]
     },
     "metadata": {},
     "output_type": "display_data"
    },
    {
     "data": {
      "image/png": "[encoded data removed]",
      "text/plain": [
       "<Figure size 432x288 with 3 Axes>"
      ]
     },
     "metadata": {
      "needs_background": "light"
     },
     "output_type": "display_data"
    }
   ],
   "source": [
    "plot_df(df,'Price')"
   ]
  },
  {
   "cell_type": "markdown",
   "id": "8dcd1324-78ab-460a-beec-b41209989d48",
   "metadata": {},
   "source": [
    "# Feature Importance"
   ]
  },
  {
   "cell_type": "code",
   "execution_count": 550,
   "id": "48de002f-090a-497c-99f7-0786026cd91f",
   "metadata": {},
   "outputs": [],
   "source": [
    "from sklearn.feature_selection import mutual_info_regression"
   ]
  },
  {
   "cell_type": "code",
   "execution_count": 552,
   "id": "bd44145e-80bb-46a9-b97f-9def0eec4eaa",
   "metadata": {},
   "outputs": [],
   "source": [
    "X = df\n",
    "y = X.pop('Price')"
   ]
  },
  {
   "cell_type": "code",
   "execution_count": 553,
   "id": "172c3002-0202-4251-8111-a9e0830bc870",
   "metadata": {},
   "outputs": [
    {
     "data": {
      "text/html": [
       "<div>\n",
       "<style scoped>\n",
       "    .dataframe tbody tr th:only-of-type {\n",
       "        vertical-align: middle;\n",
       "    }\n",
       "\n",
       "    .dataframe tbody tr th {\n",
       "        vertical-align: top;\n",
       "    }\n",
       "\n",
       "    .dataframe thead th {\n",
       "        text-align: right;\n",
       "    }\n",
       "</style>\n",
       "<table border=\"1\" class=\"dataframe\">\n",
       "  <thead>\n",
       "    <tr style=\"text-align: right;\">\n",
       "      <th></th>\n",
       "      <th>Airline</th>\n",
       "      <th>Destination</th>\n",
       "      <th>Total_Stops</th>\n",
       "      <th>journey_month</th>\n",
       "      <th>journey_day</th>\n",
       "      <th>Dep_Time_hour</th>\n",
       "      <th>Dep_Time_minute</th>\n",
       "      <th>Arrival_Time_hour</th>\n",
       "      <th>Arrival_Time_minute</th>\n",
       "      <th>Dep_Time_Cat</th>\n",
       "      <th>Dur_Tot_Mins</th>\n",
       "      <th>Source_Banglore</th>\n",
       "      <th>Source_Chennai</th>\n",
       "      <th>Source_Delhi</th>\n",
       "      <th>Source_Kolkata</th>\n",
       "      <th>Source_Mumbai</th>\n",
       "    </tr>\n",
       "  </thead>\n",
       "  <tbody>\n",
       "    <tr>\n",
       "      <th>0</th>\n",
       "      <td>3</td>\n",
       "      <td>2</td>\n",
       "      <td>0</td>\n",
       "      <td>3</td>\n",
       "      <td>24</td>\n",
       "      <td>22</td>\n",
       "      <td>20</td>\n",
       "      <td>1</td>\n",
       "      <td>10</td>\n",
       "      <td>Night</td>\n",
       "      <td>170</td>\n",
       "      <td>1</td>\n",
       "      <td>0</td>\n",
       "      <td>0</td>\n",
       "      <td>0</td>\n",
       "      <td>0</td>\n",
       "    </tr>\n",
       "    <tr>\n",
       "      <th>1</th>\n",
       "      <td>7</td>\n",
       "      <td>3</td>\n",
       "      <td>2</td>\n",
       "      <td>1</td>\n",
       "      <td>5</td>\n",
       "      <td>5</td>\n",
       "      <td>50</td>\n",
       "      <td>13</td>\n",
       "      <td>15</td>\n",
       "      <td>Early Morning</td>\n",
       "      <td>445</td>\n",
       "      <td>0</td>\n",
       "      <td>0</td>\n",
       "      <td>0</td>\n",
       "      <td>1</td>\n",
       "      <td>0</td>\n",
       "    </tr>\n",
       "    <tr>\n",
       "      <th>2</th>\n",
       "      <td>10</td>\n",
       "      <td>4</td>\n",
       "      <td>2</td>\n",
       "      <td>9</td>\n",
       "      <td>6</td>\n",
       "      <td>9</td>\n",
       "      <td>25</td>\n",
       "      <td>4</td>\n",
       "      <td>25</td>\n",
       "      <td>Morning</td>\n",
       "      <td>1140</td>\n",
       "      <td>0</td>\n",
       "      <td>0</td>\n",
       "      <td>1</td>\n",
       "      <td>0</td>\n",
       "      <td>0</td>\n",
       "    </tr>\n",
       "    <tr>\n",
       "      <th>3</th>\n",
       "      <td>3</td>\n",
       "      <td>3</td>\n",
       "      <td>1</td>\n",
       "      <td>12</td>\n",
       "      <td>5</td>\n",
       "      <td>18</td>\n",
       "      <td>5</td>\n",
       "      <td>23</td>\n",
       "      <td>30</td>\n",
       "      <td>Evening</td>\n",
       "      <td>325</td>\n",
       "      <td>0</td>\n",
       "      <td>0</td>\n",
       "      <td>0</td>\n",
       "      <td>1</td>\n",
       "      <td>0</td>\n",
       "    </tr>\n",
       "    <tr>\n",
       "      <th>4</th>\n",
       "      <td>3</td>\n",
       "      <td>2</td>\n",
       "      <td>1</td>\n",
       "      <td>1</td>\n",
       "      <td>3</td>\n",
       "      <td>16</td>\n",
       "      <td>50</td>\n",
       "      <td>21</td>\n",
       "      <td>35</td>\n",
       "      <td>Afternoon</td>\n",
       "      <td>285</td>\n",
       "      <td>1</td>\n",
       "      <td>0</td>\n",
       "      <td>0</td>\n",
       "      <td>0</td>\n",
       "      <td>0</td>\n",
       "    </tr>\n",
       "  </tbody>\n",
       "</table>\n",
       "</div>"
      ],
      "text/plain": [
       "   Airline  Destination  Total_Stops  journey_month  journey_day  \\\n",
       "0        3            2            0              3           24   \n",
       "1        7            3            2              1            5   \n",
       "2       10            4            2              9            6   \n",
       "3        3            3            1             12            5   \n",
       "4        3            2            1              1            3   \n",
       "\n",
       "   Dep_Time_hour  Dep_Time_minute  Arrival_Time_hour  Arrival_Time_minute  \\\n",
       "0             22               20                  1                   10   \n",
       "1              5               50                 13                   15   \n",
       "2              9               25                  4                   25   \n",
       "3             18                5                 23                   30   \n",
       "4             16               50                 21                   35   \n",
       "\n",
       "    Dep_Time_Cat  Dur_Tot_Mins  Source_Banglore  Source_Chennai  Source_Delhi  \\\n",
       "0          Night           170                1               0             0   \n",
       "1  Early Morning           445                0               0             0   \n",
       "2        Morning          1140                0               0             1   \n",
       "3        Evening           325                0               0             0   \n",
       "4      Afternoon           285                1               0             0   \n",
       "\n",
       "   Source_Kolkata  Source_Mumbai  \n",
       "0               0              0  \n",
       "1               1              0  \n",
       "2               0              0  \n",
       "3               1              0  \n",
       "4               0              0  "
      ]
     },
     "execution_count": 553,
     "metadata": {},
     "output_type": "execute_result"
    }
   ],
   "source": [
    "X.head()"
   ]
  },
  {
   "cell_type": "code",
   "execution_count": 555,
   "id": "3a1c161f-4e45-412b-be28-cd662b327e43",
   "metadata": {},
   "outputs": [],
   "source": [
    "X.drop(columns = 'Dep_Time_Cat', inplace=True)"
   ]
  },
  {
   "cell_type": "code",
   "execution_count": 561,
   "id": "3d683a65-54f2-41ca-9920-cfa02d7b74fd",
   "metadata": {},
   "outputs": [],
   "source": [
    "imp = pd.DataFrame(mutual_info_regression(X,y),index=X.columns)\n",
    "imp.columns=['Feature_Importance']"
   ]
  },
  {
   "cell_type": "code",
   "execution_count": 636,
   "id": "dd9c9bf9-fa90-425c-9d04-879dfbe414c7",
   "metadata": {},
   "outputs": [
    {
     "data": {
      "text/plain": [
       "Destination            1.006118\n",
       "Airline                0.971409\n",
       "Total_Stops            0.785417\n",
       "Source_Delhi           0.518790\n",
       "Dur_Tot_Mins           0.499038\n",
       "Source_Kolkata         0.450209\n",
       "Arrival_Time_hour      0.406989\n",
       "Source_Banglore        0.395547\n",
       "Arrival_Time_minute    0.347500\n",
       "Dep_Time_hour          0.329370\n",
       "Dep_Time_minute        0.250813\n",
       "journey_month          0.239196\n",
       "Source_Mumbai          0.200876\n",
       "journey_day            0.196551\n",
       "Source_Chennai         0.124962\n",
       "Name: Feature_Importance, dtype: float64"
      ]
     },
     "execution_count": 636,
     "metadata": {},
     "output_type": "execute_result"
    }
   ],
   "source": [
    "imp.Feature_Importance.sort_values(ascending=False)"
   ]
  },
  {
   "cell_type": "code",
   "execution_count": 638,
   "id": "eb95be5e-06ab-4f35-9f0e-50c0fd7cbd32",
   "metadata": {},
   "outputs": [
    {
     "data": {
      "text/plain": [
       "(10682, 15)"
      ]
     },
     "execution_count": 638,
     "metadata": {},
     "output_type": "execute_result"
    }
   ],
   "source": [
    "df.shape"
   ]
  },
  {
   "cell_type": "markdown",
   "id": "40641dd2-e662-4ae5-a441-1febf94279a1",
   "metadata": {},
   "source": [
    "# Building ML Models"
   ]
  },
  {
   "cell_type": "markdown",
   "id": "22feba88-4b70-4e34-aefe-8c2d4f75d0b4",
   "metadata": {},
   "source": [
    "1. Building Basic ML Models \\n\n",
    "(1.1 Divide Data in Test Train)\n",
    "2. Optimizing our ML Model by tuning Hyperparameters"
   ]
  },
  {
   "cell_type": "code",
   "execution_count": 583,
   "id": "d21cf5e2-0cec-4947-8f07-24fb1d4e1cde",
   "metadata": {},
   "outputs": [
    {
     "data": {
      "text/plain": [
       "(2671, 15)"
      ]
     },
     "execution_count": 583,
     "metadata": {},
     "output_type": "execute_result"
    }
   ],
   "source": [
    "X_test.shape"
   ]
  },
  {
   "cell_type": "code",
   "execution_count": 582,
   "id": "ae628acd-4c7e-4ca4-b7be-106f47536b57",
   "metadata": {},
   "outputs": [
    {
     "data": {
      "text/plain": [
       "(2671,)"
      ]
     },
     "execution_count": 582,
     "metadata": {},
     "output_type": "execute_result"
    }
   ],
   "source": [
    "y_test.shape"
   ]
  },
  {
   "cell_type": "code",
   "execution_count": 621,
   "id": "b7feccf0-2576-4b3b-944a-1acbf340d952",
   "metadata": {},
   "outputs": [],
   "source": [
    "from sklearn.model_selection import train_test_split\n",
    "X_train,X_test,y_train,y_test = train_test_split(X,y,test_size=0.25,random_state=42)"
   ]
  },
  {
   "cell_type": "code",
   "execution_count": 606,
   "id": "74e8e763-ad3d-4054-95cf-86c4800ba406",
   "metadata": {},
   "outputs": [],
   "source": [
    "y_train = y_train.values.reshape(-1, 1)\n",
    "y_test = y_test.values.reshape(-1, 1)"
   ]
  },
  {
   "cell_type": "code",
   "execution_count": 608,
   "id": "73fd5184-3cac-444a-b1f2-f4529a557934",
   "metadata": {},
   "outputs": [
    {
     "data": {
      "text/plain": [
       "(2671, 1)"
      ]
     },
     "execution_count": 608,
     "metadata": {},
     "output_type": "execute_result"
    }
   ],
   "source": [
    "y_test.shape"
   ]
  },
  {
   "cell_type": "code",
   "execution_count": 622,
   "id": "0c9c2428-e522-4c06-ad33-3ae1d7d2732c",
   "metadata": {},
   "outputs": [],
   "source": [
    "from sklearn.ensemble import RandomForestRegressor"
   ]
  },
  {
   "cell_type": "code",
   "execution_count": 623,
   "id": "c5d6bc19-5ab2-4a15-8c68-8256a5397ae7",
   "metadata": {},
   "outputs": [],
   "source": [
    "rnd_model = RandomForestRegressor()"
   ]
  },
  {
   "cell_type": "code",
   "execution_count": 624,
   "id": "d238666e-0286-4a01-bff7-50d01e34f375",
   "metadata": {},
   "outputs": [],
   "source": [
    "model = rnd_model.fit(X_train,y_train)"
   ]
  },
  {
   "cell_type": "code",
   "execution_count": 625,
   "id": "fe222962-5f00-47d0-90ed-185ffac669da",
   "metadata": {},
   "outputs": [],
   "source": [
    "y_pred = model.predict(X_test)"
   ]
  },
  {
   "cell_type": "code",
   "execution_count": 626,
   "id": "2823731d-4639-43e2-9288-978768caa8b0",
   "metadata": {},
   "outputs": [],
   "source": [
    "y_pred = y_pred.reshape(-1,1)"
   ]
  },
  {
   "cell_type": "code",
   "execution_count": 627,
   "id": "765378bf-875e-4320-9b5a-31174a7b0700",
   "metadata": {},
   "outputs": [
    {
     "data": {
      "text/plain": [
       "0.8141931526263305"
      ]
     },
     "execution_count": 627,
     "metadata": {},
     "output_type": "execute_result"
    }
   ],
   "source": [
    "model.score(X_test,y_test)"
   ]
  },
  {
   "cell_type": "markdown",
   "id": "897feb1e-0000-4c73-a9ae-6379be3aa479",
   "metadata": {},
   "source": [
    "### Random Forest Scores by taking X_test,y_test and not y_test,y_pred"
   ]
  },
  {
   "cell_type": "markdown",
   "id": "8fdab3c6-7af2-48d8-9b05-47949bb9b6b3",
   "metadata": {},
   "source": []
  },
  {
   "cell_type": "markdown",
   "id": "efbe7927-372a-4ca1-9451-dbaeccf4f2ae",
   "metadata": {},
   "source": [
    "### Creating own Function to calculate MAPE for the above code"
   ]
  },
  {
   "cell_type": "code",
   "execution_count": null,
   "id": "ce967dcf-0d31-480f-bb56-6770d723ae38",
   "metadata": {},
   "outputs": [],
   "source": []
  },
  {
   "cell_type": "code",
   "execution_count": 632,
   "id": "a9bc78df-e0bb-4d71-97b1-b6dfa60b0755",
   "metadata": {},
   "outputs": [],
   "source": [
    "def mape(y_true,y_pred):\n",
    "    y_true,y_pred=np.array(y_true),np.array(y_pred)\n",
    "    \n",
    "    return np.mean(np.abs((y_true-y_pred)/y_true))*100\n",
    "    "
   ]
  },
  {
   "cell_type": "code",
   "execution_count": 633,
   "id": "828bb390-4b08-45ee-9f18-7a745ca230a0",
   "metadata": {},
   "outputs": [
    {
     "data": {
      "text/plain": [
       "68.6641583348709"
      ]
     },
     "execution_count": 633,
     "metadata": {},
     "output_type": "execute_result"
    }
   ],
   "source": [
    "mape(y_test,y_pred)"
   ]
  },
  {
   "cell_type": "markdown",
   "id": "5f3d06f3-9541-41e0-96f0-24fac560f349",
   "metadata": {},
   "source": [
    "# Automate ML Pipeline"
   ]
  },
  {
   "cell_type": "code",
   "execution_count": 655,
   "id": "cd310e5f-8124-4e33-8e12-bf13ddc9e0a5",
   "metadata": {},
   "outputs": [],
   "source": [
    "def model_pipeline(model,X,y,split,random_state):\n",
    "    from sklearn import metrics\n",
    "    X_train,X_test,y_train,y_test = train_test_split(X,y,test_size=split,random_state=random_state)\n",
    "    model.fit(X_train,y_train)\n",
    "    y_pred = model.predict(X_test)\n",
    "    \n",
    "    print('We Ran {} Machine Learning Model: \\n'.format(str(model)))\n",
    "    print('Train Data Score of the is: {}'.format(model.score(X_train,y_train)))\n",
    "    print('Test Data Score of the is: {}'.format(model.score(X_test,y_test)))\n",
    "    print('R^2 Score for Model is: {}', metrics.r2_score(y_test,y_pred))\n",
    "    print('MSE Score for Model is: {}', metrics.mean_squared_error(y_test,y_pred))\n",
    "    print('MAE Score for Model is: {}', metrics.mean_absolute_error(y_test,y_pred))\n",
    "    print('RMSE Score for Model is: {}', np.sqrt(metrics.mean_squared_error(y_test,y_pred)))\n",
    "    print('MAPE Score for Model is: {} ', metrics.mean_absolute_percentage_error(y_test,y_pred))\n",
    "    print('\\n Distribution Plot of the error is: \\n')\n",
    "    \n",
    "    sns.displot(y_test - y_pred,kde=True)"
   ]
  },
  {
   "cell_type": "code",
   "execution_count": 658,
   "id": "475fa7ce-3299-4d95-8b29-f68cdc0cf3fe",
   "metadata": {},
   "outputs": [
    {
     "name": "stdout",
     "output_type": "stream",
     "text": [
      "We Ran RandomForestRegressor() Machine Learning Model: \n",
      "\n",
      "Train Data Score of the is: 0.9512985098219797\n",
      "Test Data Score of the is: 0.8145911080898163\n",
      "R^2 Score for Model is: {} 0.8145911080898163\n",
      "MSE Score for Model is: {} 3609466.082118467\n",
      "MAE Score for Model is: {} 1167.8987612140552\n",
      "RMSE Score for Model is: {} 1899.8594900987987\n",
      "MAPE Score for Model is: {}  0.13135479221790214\n",
      "\n",
      " Distribution Plot of the error is: \n",
      "\n"
     ]
    },
    {
     "data": {
      "image/png": "[encoded data removed]",
      "text/plain": [
       "<Figure size 360x360 with 1 Axes>"
      ]
     },
     "metadata": {
      "needs_background": "light"
     },
     "output_type": "display_data"
    }
   ],
   "source": [
    "model_pipeline(RandomForestRegressor(),X,y,0.25,42)"
   ]
  },
  {
   "cell_type": "code",
   "execution_count": null,
   "id": "a20b7753-2bf9-42bd-8400-1c72d903bf33",
   "metadata": {},
   "outputs": [],
   "source": []
  },
  {
   "cell_type": "markdown",
   "id": "c8eb1400-668e-471b-817e-6eb97dcecc7e",
   "metadata": {},
   "source": [
    "### Dropping 'Duration_Tot_min' column and testing"
   ]
  },
  {
   "cell_type": "code",
   "execution_count": 659,
   "id": "d807f504-0850-4ae4-b9a5-5440d1ae620f",
   "metadata": {},
   "outputs": [
    {
     "name": "stdout",
     "output_type": "stream",
     "text": [
      "We Ran RandomForestRegressor() Machine Learning Model: \n",
      "\n",
      "Train Data Score of the is: 0.9513597728626769\n",
      "Test Data Score of the is: 0.8180330727857126\n",
      "R^2 Score for Model is: {} 0.8180330727857126\n",
      "MSE Score for Model is: {} 3542459.291356213\n",
      "MAE Score for Model is: {} 1156.0565805253964\n",
      "RMSE Score for Model is: {} 1882.1422080587356\n",
      "MAPE Score for Model is: {}  0.13027154755751455\n",
      "\n",
      " Distribution Plot of the error is: \n",
      "\n"
     ]
    },
    {
     "data": {
      "image/png": "[encoded data removed]",
      "text/plain": [
       "<Figure size 360x360 with 1 Axes>"
      ]
     },
     "metadata": {
      "needs_background": "light"
     },
     "output_type": "display_data"
    }
   ],
   "source": [
    "model_pipeline(RandomForestRegressor(),x1,y1,0.25,42)"
   ]
  },
  {
   "cell_type": "markdown",
   "id": "86cf1a56-199f-401b-9037-75a608cbac06",
   "metadata": {},
   "source": [
    "### Dropping 'journey day' columns and testing"
   ]
  },
  {
   "cell_type": "code",
   "execution_count": 660,
   "id": "0bd45700-948d-4d2f-b588-1d29c4a9f963",
   "metadata": {},
   "outputs": [
    {
     "data": {
      "text/html": [
       "<div>\n",
       "<style scoped>\n",
       "    .dataframe tbody tr th:only-of-type {\n",
       "        vertical-align: middle;\n",
       "    }\n",
       "\n",
       "    .dataframe tbody tr th {\n",
       "        vertical-align: top;\n",
       "    }\n",
       "\n",
       "    .dataframe thead th {\n",
       "        text-align: right;\n",
       "    }\n",
       "</style>\n",
       "<table border=\"1\" class=\"dataframe\">\n",
       "  <thead>\n",
       "    <tr style=\"text-align: right;\">\n",
       "      <th></th>\n",
       "      <th>Airline</th>\n",
       "      <th>Destination</th>\n",
       "      <th>Total_Stops</th>\n",
       "      <th>journey_month</th>\n",
       "      <th>journey_day</th>\n",
       "      <th>Dep_Time_hour</th>\n",
       "      <th>Dep_Time_minute</th>\n",
       "      <th>Arrival_Time_hour</th>\n",
       "      <th>Arrival_Time_minute</th>\n",
       "      <th>Dur_Tot_Mins</th>\n",
       "      <th>Source_Banglore</th>\n",
       "      <th>Source_Chennai</th>\n",
       "      <th>Source_Delhi</th>\n",
       "      <th>Source_Kolkata</th>\n",
       "      <th>Source_Mumbai</th>\n",
       "    </tr>\n",
       "  </thead>\n",
       "  <tbody>\n",
       "    <tr>\n",
       "      <th>0</th>\n",
       "      <td>3</td>\n",
       "      <td>2</td>\n",
       "      <td>0</td>\n",
       "      <td>3</td>\n",
       "      <td>24</td>\n",
       "      <td>22</td>\n",
       "      <td>20</td>\n",
       "      <td>1</td>\n",
       "      <td>10</td>\n",
       "      <td>170</td>\n",
       "      <td>1</td>\n",
       "      <td>0</td>\n",
       "      <td>0</td>\n",
       "      <td>0</td>\n",
       "      <td>0</td>\n",
       "    </tr>\n",
       "    <tr>\n",
       "      <th>1</th>\n",
       "      <td>7</td>\n",
       "      <td>3</td>\n",
       "      <td>2</td>\n",
       "      <td>1</td>\n",
       "      <td>5</td>\n",
       "      <td>5</td>\n",
       "      <td>50</td>\n",
       "      <td>13</td>\n",
       "      <td>15</td>\n",
       "      <td>445</td>\n",
       "      <td>0</td>\n",
       "      <td>0</td>\n",
       "      <td>0</td>\n",
       "      <td>1</td>\n",
       "      <td>0</td>\n",
       "    </tr>\n",
       "    <tr>\n",
       "      <th>2</th>\n",
       "      <td>10</td>\n",
       "      <td>4</td>\n",
       "      <td>2</td>\n",
       "      <td>9</td>\n",
       "      <td>6</td>\n",
       "      <td>9</td>\n",
       "      <td>25</td>\n",
       "      <td>4</td>\n",
       "      <td>25</td>\n",
       "      <td>1140</td>\n",
       "      <td>0</td>\n",
       "      <td>0</td>\n",
       "      <td>1</td>\n",
       "      <td>0</td>\n",
       "      <td>0</td>\n",
       "    </tr>\n",
       "    <tr>\n",
       "      <th>3</th>\n",
       "      <td>3</td>\n",
       "      <td>3</td>\n",
       "      <td>1</td>\n",
       "      <td>12</td>\n",
       "      <td>5</td>\n",
       "      <td>18</td>\n",
       "      <td>5</td>\n",
       "      <td>23</td>\n",
       "      <td>30</td>\n",
       "      <td>325</td>\n",
       "      <td>0</td>\n",
       "      <td>0</td>\n",
       "      <td>0</td>\n",
       "      <td>1</td>\n",
       "      <td>0</td>\n",
       "    </tr>\n",
       "    <tr>\n",
       "      <th>4</th>\n",
       "      <td>3</td>\n",
       "      <td>2</td>\n",
       "      <td>1</td>\n",
       "      <td>1</td>\n",
       "      <td>3</td>\n",
       "      <td>16</td>\n",
       "      <td>50</td>\n",
       "      <td>21</td>\n",
       "      <td>35</td>\n",
       "      <td>285</td>\n",
       "      <td>1</td>\n",
       "      <td>0</td>\n",
       "      <td>0</td>\n",
       "      <td>0</td>\n",
       "      <td>0</td>\n",
       "    </tr>\n",
       "  </tbody>\n",
       "</table>\n",
       "</div>"
      ],
      "text/plain": [
       "   Airline  Destination  Total_Stops  journey_month  journey_day  \\\n",
       "0        3            2            0              3           24   \n",
       "1        7            3            2              1            5   \n",
       "2       10            4            2              9            6   \n",
       "3        3            3            1             12            5   \n",
       "4        3            2            1              1            3   \n",
       "\n",
       "   Dep_Time_hour  Dep_Time_minute  Arrival_Time_hour  Arrival_Time_minute  \\\n",
       "0             22               20                  1                   10   \n",
       "1              5               50                 13                   15   \n",
       "2              9               25                  4                   25   \n",
       "3             18                5                 23                   30   \n",
       "4             16               50                 21                   35   \n",
       "\n",
       "   Dur_Tot_Mins  Source_Banglore  Source_Chennai  Source_Delhi  \\\n",
       "0           170                1               0             0   \n",
       "1           445                0               0             0   \n",
       "2          1140                0               0             1   \n",
       "3           325                0               0             0   \n",
       "4           285                1               0             0   \n",
       "\n",
       "   Source_Kolkata  Source_Mumbai  \n",
       "0               0              0  \n",
       "1               1              0  \n",
       "2               0              0  \n",
       "3               1              0  \n",
       "4               0              0  "
      ]
     },
     "execution_count": 660,
     "metadata": {},
     "output_type": "execute_result"
    }
   ],
   "source": [
    "df.head()"
   ]
  },
  {
   "cell_type": "code",
   "execution_count": 661,
   "id": "3f2c291a-a826-4450-bbb7-04c447bb69e9",
   "metadata": {},
   "outputs": [],
   "source": [
    "x3 = df.drop(columns='journey_day')\n",
    "y3 = y"
   ]
  },
  {
   "cell_type": "code",
   "execution_count": 662,
   "id": "5d6fa881-b984-4372-bac4-b756f37bc253",
   "metadata": {},
   "outputs": [
    {
     "name": "stdout",
     "output_type": "stream",
     "text": [
      "We Ran RandomForestRegressor() Machine Learning Model: \n",
      "\n",
      "Train Data Score of the is: 0.8867315338132926\n",
      "Test Data Score of the is: 0.703980089972474\n",
      "R^2 Score for Model is: {} 0.703980089972474\n",
      "MSE Score for Model is: {} 5762797.101412527\n",
      "MAE Score for Model is: {} 1497.3231256512565\n",
      "RMSE Score for Model is: {} 2400.58265873361\n",
      "MAPE Score for Model is: {}  0.1726606848933608\n",
      "\n",
      " Distribution Plot of the error is: \n",
      "\n"
     ]
    },
    {
     "data": {
      "image/png": "[encoded data removed]",
      "text/plain": [
       "<Figure size 360x360 with 1 Axes>"
      ]
     },
     "metadata": {
      "needs_background": "light"
     },
     "output_type": "display_data"
    }
   ],
   "source": [
    "model_pipeline(RandomForestRegressor(),x3,y3,0.25,42)"
   ]
  },
  {
   "cell_type": "markdown",
   "id": "c9b6fff4-c261-42bd-9359-b60d6f5639ee",
   "metadata": {
    "tags": []
   },
   "source": [
    "# Saving ML Model using Pickle"
   ]
  },
  {
   "cell_type": "code",
   "execution_count": 588,
   "id": "1a21216d-90ef-48f4-80e7-7d44ea5dacbc",
   "metadata": {},
   "outputs": [],
   "source": [
    "import pickle"
   ]
  },
  {
   "cell_type": "code",
   "execution_count": 589,
   "id": "437596b4-9718-4ae0-86f6-b7af3afe6dce",
   "metadata": {},
   "outputs": [],
   "source": [
    "file = open('price_predictor.pkl', 'wb')"
   ]
  },
  {
   "cell_type": "code",
   "execution_count": 590,
   "id": "aab06dde-6c4c-4ac9-94e6-c8786509722f",
   "metadata": {},
   "outputs": [],
   "source": [
    "pickle.dump(model,file)"
   ]
  },
  {
   "cell_type": "code",
   "execution_count": 591,
   "id": "1898d2b5-3d94-4e58-aa46-a09d22de2ffe",
   "metadata": {},
   "outputs": [],
   "source": [
    "model_1 = open('price_predictor.pkl','rb')"
   ]
  },
  {
   "cell_type": "code",
   "execution_count": 593,
   "id": "3d1256a2-0b9d-4494-b4d6-93b6fa8caa68",
   "metadata": {},
   "outputs": [
    {
     "data": {
      "text/plain": [
       "array([16658.33,  6175.49,  8883.08, ...,  3533.46,  6468.97,  7185.05])"
      ]
     },
     "execution_count": 593,
     "metadata": {},
     "output_type": "execute_result"
    }
   ],
   "source": [
    "forest = pickle.load(model_1)\n",
    "forest.predict(X_test)"
   ]
  }
 ],
 "metadata": {
  "kernelspec": {
   "display_name": "Python 3 (ipykernel)",
   "language": "python",
   "name": "python3"
  },
  "language_info": {
   "codemirror_mode": {
    "name": "ipython",
    "version": 3
   },
   "file_extension": ".py",
   "mimetype": "text/x-python",
   "name": "python",
   "nbconvert_exporter": "python",
   "pygments_lexer": "ipython3",
   "version": "3.9.7"
  }
 },
 "nbformat": 4,
 "nbformat_minor": 5
}
